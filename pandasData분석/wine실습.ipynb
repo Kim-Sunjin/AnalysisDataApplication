{
 "cells": [
  {
   "cell_type": "code",
   "execution_count": 1,
   "source": [
    "# 메모리 변수 모두 제거\r\n",
    "all = [var for var in globals() if var[0] != \"_\"]\r\n",
    "for var in all:\r\n",
    "    del globals()[var]"
   ],
   "outputs": [],
   "metadata": {}
  },
  {
   "cell_type": "code",
   "execution_count": 2,
   "source": [
    "import pandas as pd\r\n",
    "import numpy as np\r\n",
    "import seaborn as sns"
   ],
   "outputs": [],
   "metadata": {}
  },
  {
   "cell_type": "code",
   "execution_count": 3,
   "source": [
    "from matplotlib import font_manager, rc\r\n",
    "import matplotlib\r\n",
    "import matplotlib.pyplot as plt\r\n",
    "import platform"
   ],
   "outputs": [],
   "metadata": {}
  },
  {
   "cell_type": "code",
   "execution_count": 1,
   "source": [
    "if platform.system() == 'Windows':\r\n",
    "    font_name = font_manager.FontProperties(fname='C:/Windows/Fonts/malgun.ttf').get_name()\r\n",
    "    rc('font', family=font_name)\r\n",
    "else:\r\n",
    "    rc('font', family='AppleGothic')\r\n",
    "matplotlib.rcParams['axes.unicode_minus'] = False"
   ],
   "outputs": [
    {
     "output_type": "error",
     "ename": "NameError",
     "evalue": "name 'platform' is not defined",
     "traceback": [
      "\u001b[1;31m---------------------------------------------------------------------------\u001b[0m",
      "\u001b[1;31mNameError\u001b[0m                                 Traceback (most recent call last)",
      "\u001b[1;32m<ipython-input-1-4843bdcbdbab>\u001b[0m in \u001b[0;36m<module>\u001b[1;34m\u001b[0m\n\u001b[1;32m----> 1\u001b[1;33m \u001b[1;32mif\u001b[0m \u001b[0mplatform\u001b[0m\u001b[1;33m.\u001b[0m\u001b[0msystem\u001b[0m\u001b[1;33m(\u001b[0m\u001b[1;33m)\u001b[0m \u001b[1;33m==\u001b[0m \u001b[1;34m'Windows'\u001b[0m\u001b[1;33m:\u001b[0m\u001b[1;33m\u001b[0m\u001b[1;33m\u001b[0m\u001b[0m\n\u001b[0m\u001b[0;32m      2\u001b[0m     \u001b[0mfont_name\u001b[0m \u001b[1;33m=\u001b[0m \u001b[0mfont_manager\u001b[0m\u001b[1;33m.\u001b[0m\u001b[0mFontProperties\u001b[0m\u001b[1;33m(\u001b[0m\u001b[0mfname\u001b[0m\u001b[1;33m=\u001b[0m\u001b[1;34m'C:/Windows/Fonts/malgun.ttf'\u001b[0m\u001b[1;33m)\u001b[0m\u001b[1;33m.\u001b[0m\u001b[0mget_name\u001b[0m\u001b[1;33m(\u001b[0m\u001b[1;33m)\u001b[0m\u001b[1;33m\u001b[0m\u001b[1;33m\u001b[0m\u001b[0m\n\u001b[0;32m      3\u001b[0m     \u001b[0mrc\u001b[0m\u001b[1;33m(\u001b[0m\u001b[1;34m'font'\u001b[0m\u001b[1;33m,\u001b[0m \u001b[0mfamily\u001b[0m\u001b[1;33m=\u001b[0m\u001b[0mfont_name\u001b[0m\u001b[1;33m)\u001b[0m\u001b[1;33m\u001b[0m\u001b[1;33m\u001b[0m\u001b[0m\n\u001b[0;32m      4\u001b[0m \u001b[1;32melse\u001b[0m\u001b[1;33m:\u001b[0m\u001b[1;33m\u001b[0m\u001b[1;33m\u001b[0m\u001b[0m\n\u001b[0;32m      5\u001b[0m     \u001b[0mrc\u001b[0m\u001b[1;33m(\u001b[0m\u001b[1;34m'font'\u001b[0m\u001b[1;33m,\u001b[0m \u001b[0mfamily\u001b[0m\u001b[1;33m=\u001b[0m\u001b[1;34m'AppleGothic'\u001b[0m\u001b[1;33m)\u001b[0m\u001b[1;33m\u001b[0m\u001b[1;33m\u001b[0m\u001b[0m\n",
      "\u001b[1;31mNameError\u001b[0m: name 'platform' is not defined"
     ]
    }
   ],
   "metadata": {}
  },
  {
   "cell_type": "code",
   "execution_count": 4,
   "source": [
    "wine1 = pd.read_csv('C:/Users/igksj/Desktop/분반 자료/wine1.csv', sep='\\t')\r\n",
    "wine2 = pd.read_csv('C:/Users/igksj/Desktop/분반 자료/wine2.csv',sep='\\t')"
   ],
   "outputs": [],
   "metadata": {}
  },
  {
   "cell_type": "code",
   "execution_count": null,
   "source": [
    "from  glob import glob\r\n",
    "wine1 = pd.read_csv(glob('w*.csv')[0], sep='\\t')\r\n",
    "wine2 = pd.read_csv(glob('w*.csv')[0], sep='\\t')"
   ],
   "outputs": [],
   "metadata": {}
  },
  {
   "cell_type": "code",
   "execution_count": 5,
   "source": [
    "# 새로운 인덱스의 교집합\r\n",
    "\r\n",
    "intersection_idx = list(set(wine1['index']).intersection(wine2['index']))\r\n",
    "\r\n",
    "\r\n",
    "# 교집합에 존재하는 데이터만 불러오기\r\n",
    "wine = wine1.loc[\r\n",
    "    wine1['index'].apply(lambda x: x in intersection_idx)].copy()\r\n",
    "\r\n",
    "wine = wine.sort_values(by = 'index').reset_index(drop=True) \r\n",
    "wine['class'].min(), wine['class'].max()\r\n",
    "\r\n",
    "print(wine.info())\r\n",
    "print(wine.head(20))\r\n"
   ],
   "outputs": [
    {
     "output_type": "stream",
     "name": "stdout",
     "text": [
      "<class 'pandas.core.frame.DataFrame'>\n",
      "RangeIndex: 6497 entries, 0 to 6496\n",
      "Data columns (total 3 columns):\n",
      " #   Column   Non-Null Count  Dtype  \n",
      "---  ------   --------------  -----  \n",
      " 0   index    6497 non-null   int64  \n",
      " 1   alcohol  6497 non-null   float64\n",
      " 2   class    6493 non-null   float64\n",
      "dtypes: float64(2), int64(1)\n",
      "memory usage: 152.4 KB\n",
      "None\n",
      "    index  alcohol  class\n",
      "0       1      9.4    0.0\n",
      "1       2      9.8    0.0\n",
      "2       4      9.8    0.0\n",
      "3       5      9.4    0.0\n",
      "4       6      9.4    NaN\n",
      "5       7      9.4    0.0\n",
      "6       8     10.0    0.0\n",
      "7       9      9.5    0.0\n",
      "8      11      9.2    NaN\n",
      "9      12     10.5    0.0\n",
      "10     13      9.9    0.0\n",
      "11     14      9.1    0.0\n",
      "12     15      9.2    0.0\n",
      "13     16      9.2    0.0\n",
      "14     17     10.5    0.0\n",
      "15     18      9.3    0.0\n",
      "16     19      9.0    0.0\n",
      "17     20      9.2    NaN\n",
      "18     21      9.4    0.0\n",
      "19     22      9.7    0.0\n"
     ]
    }
   ],
   "metadata": {}
  },
  {
   "cell_type": "code",
   "execution_count": 6,
   "source": [
    "# ★★★★★★★ [미션] ★★★★★★★\r\n",
    "########################################\r\n",
    "### wine자료와 wine2 자료를  연결하여서\r\n",
    "### wine의 index번호에 해당하는\r\n",
    "### wine2자료의 sugar_PH값 가져와  df 데이터셋 제작\r\n",
    "### df 데이터셋의 sugar_PH의  값 분리하여\r\n",
    "### df['sugar']   df['PH'] 변수로 작성\r\n",
    "#######################################\r\n",
    "\r\n",
    "\r\n",
    "## merge 로 두데이터 조인\r\n",
    "df=pd.merge(wine, wine2) # 옵션이 없으면 wine1, wine2의 필드가 같은걸 자동으로 연결, index필드가 같은 자료만 가져온다.\r\n",
    "\r\n",
    "\r\n",
    "# 파이썬 컴프리헨션(압축기법)\r\n",
    "#df['sugar']=[x.split('/')[0] if pd.notnull(x) else x for x in tmp['sugar_PH']]\r\n",
    "\r\n",
    "df['sugar'] = df['sugar_PH'].apply(\r\n",
    "    lambda x: x.split('/')[0] if pd.notnull(x) else x)\r\n",
    "\r\n",
    "df['PH'] = df['sugar_PH'].apply(\r\n",
    "    lambda x: x.split('/')[1] if pd.notnull(x) else x)\r\n"
   ],
   "outputs": [],
   "metadata": {}
  },
  {
   "cell_type": "code",
   "execution_count": 7,
   "source": [
    "df.info()"
   ],
   "outputs": [
    {
     "output_type": "stream",
     "name": "stdout",
     "text": [
      "<class 'pandas.core.frame.DataFrame'>\n",
      "Int64Index: 6497 entries, 0 to 6496\n",
      "Data columns (total 6 columns):\n",
      " #   Column    Non-Null Count  Dtype  \n",
      "---  ------    --------------  -----  \n",
      " 0   index     6497 non-null   int64  \n",
      " 1   alcohol   6497 non-null   float64\n",
      " 2   class     6493 non-null   float64\n",
      " 3   sugar_PH  6497 non-null   object \n",
      " 4   sugar     6497 non-null   object \n",
      " 5   PH        6497 non-null   object \n",
      "dtypes: float64(2), int64(1), object(3)\n",
      "memory usage: 355.3+ KB\n"
     ]
    }
   ],
   "metadata": {}
  },
  {
   "cell_type": "code",
   "execution_count": 8,
   "source": [
    "# 이중 리스트 구조 만들기\r\n",
    "dfTmp=pd.merge(wine1,wine2)\r\n",
    "dataList=[]; mainList=[]\r\n",
    "\r\n",
    "for i in dfTmp['sugar_PH']:\r\n",
    "  List=[]\r\n",
    "  for j in i.split('/'):\r\n",
    "    List.append(j)\r\n",
    "  mainList.append(List)\r\n",
    "print(mainList[:10])\r\n",
    "\r\n",
    "\r\n",
    "\r\n",
    "import numpy as np\r\n",
    "dfTmp['sugar']=np.array(mainList)[:,0]  # [:,0] 모든행, 0번열\r\n",
    "dfTmp['PH']=np.array(mainList)[:,1]     # [:,1] 모든행, 1번열\r\n"
   ],
   "outputs": [
    {
     "output_type": "stream",
     "name": "stdout",
     "text": [
      "[['1.9', '3.51'], ['2.6', '3.2'], ['2.3', '3.26'], ['1.9', '3.16'], ['1.9', '3.51'], ['1.8', '3.51'], ['1.6', '3.3'], ['1.2', '3.39'], ['2', '3.36'], ['6.1', '3.35']]\n"
     ]
    }
   ],
   "metadata": {}
  },
  {
   "cell_type": "code",
   "execution_count": 10,
   "source": [
    "df = df.drop(['index','sugar_PH'],axis=1)\r\n",
    "df.info()"
   ],
   "outputs": [
    {
     "output_type": "stream",
     "name": "stdout",
     "text": [
      "<class 'pandas.core.frame.DataFrame'>\n",
      "Int64Index: 6497 entries, 0 to 6496\n",
      "Data columns (total 4 columns):\n",
      " #   Column   Non-Null Count  Dtype  \n",
      "---  ------   --------------  -----  \n",
      " 0   alcohol  6497 non-null   float64\n",
      " 1   class    6493 non-null   float64\n",
      " 2   sugar    6497 non-null   object \n",
      " 3   PH       6497 non-null   object \n",
      "dtypes: float64(2), object(2)\n",
      "memory usage: 253.8+ KB\n"
     ]
    }
   ],
   "metadata": {}
  },
  {
   "cell_type": "code",
   "execution_count": null,
   "source": [
    "import time\r\n",
    "start = time.time()\r\n",
    "\r\n",
    "for x in df.columns:\r\n",
    "    if df[x].dtype=='object':\r\n",
    "        df[x]=df[x].astype('float64')\r\n",
    "\r\n",
    "print(time.time()-start)"
   ],
   "outputs": [],
   "metadata": {}
  },
  {
   "cell_type": "code",
   "execution_count": null,
   "source": [
    "[df[x].astype('float64') if df[x].dtype=='object' else x for x in df.columns]"
   ],
   "outputs": [],
   "metadata": {}
  },
  {
   "cell_type": "code",
   "execution_count": null,
   "source": [
    "# 방법1\r\n",
    "df['sugar'] = df['sugar'].astype('float64')\r\n",
    "df['PH'] = df['PH'].astype('float64')\r\n",
    "\r\n",
    "# 방법2\r\n",
    "col = ['sugar','PH']\r\n",
    "for x in col:\r\n",
    "    df[x]=df[x].astype('float64')\r\n",
    "\r\n",
    "# 방법3\r\n",
    "for x in df.columns:\r\n",
    "    if df[x].dtype=='object':\r\n",
    "        df[x]=df[x].astype('float64')\r\n",
    "\r\n",
    "# 방법4:압축방식\r\n",
    "[df[x].astype('float64') if df[x].dtype=='object' else x for x in df.columns]\r\n"
   ],
   "outputs": [],
   "metadata": {}
  },
  {
   "cell_type": "code",
   "execution_count": null,
   "source": [
    "## 방법1 : 사용자가 변수를 직접 지정하고 일일이 명령어를 작업\r\n",
    "df['sugar']=df['sugar'].astype('float64')\r\n",
    "df['PH']=df['PH'].astype('float64')\r\n",
    "\r\n",
    "\r\n",
    "\r\n",
    "## 방법2: 공통된 기능을 수행하는 변수명을 모아서 for로 반복함. 또는 사용자정의 함수 작성해도 됨\r\n",
    "col=['sugar','PH']\r\n",
    "for x in col:\r\n",
    "    df[x]=df[x].astype('float64')\r\n",
    "df.info()\r\n",
    "\r\n",
    "\r\n",
    "## 방법3: 만약에object 관련 모든 변수를 숫자로 변형한다면 아래와 같이 작업\r\n",
    "for x in df.columns:\r\n",
    "    if df[x].dtype=='object':\r\n",
    "        df[x]=df[x].astype('float64')\r\n",
    "\r\n",
    "## 방법4: 방법3을 압축한 형식\r\n",
    "[df[x].astype('float64') if df[x].dtype=='object' else x for x in df.columns]   # 방법4-1\r\n",
    "[df[x].astype('float64') for x in df.columns  if df[x].dtype=='object']         # 방법4-2\r\n"
   ],
   "outputs": [],
   "metadata": {}
  },
  {
   "cell_type": "code",
   "execution_count": null,
   "source": [
    "# class의 결측치를 0으로 치환하고자 함.\r\n",
    "numerics = ['int16', 'int32', 'int64', 'float16', 'float32', 'float64']\r\n",
    "\r\n",
    "#  결측치를 0으로 채우기\r\n",
    "df[df.select_dtypes(include=numerics).columns] =df[df.select_dtypes(include=numerics).columns].fillna(0)\r\n",
    "df.info()\r\n",
    "\r\n",
    "# for를 이용하여 결측치를 0으로 채우기\r\n"
   ],
   "outputs": [],
   "metadata": {}
  },
  {
   "cell_type": "code",
   "execution_count": null,
   "source": [
    "#### 지금까지 작업\r\n",
    "\r\n",
    "\r\n",
    "# 자료읽기 및 데이터 병합\r\n",
    "from glob import glob\r\n",
    "wine1=pd.read_csv('wine1.csv',sep='\\t')\r\n",
    "wine2=pd.read_csv('wine2.csv',sep='\\t')\r\n",
    "df=pd.merge(wine1,wine2)\r\n",
    "display(df.head())\r\n",
    "\r\n",
    "# 필드분할, 파이썬 컴프리헨션(압축기법)\r\n",
    "df['sugar']=[x.split('/')[0] if pd.notnull(x) else x for x in df['sugar_PH']]\r\n",
    "df['PH']=[x.split('/')[1] if pd.notnull(x) else x for x in df['sugar_PH']]\r\n",
    "\r\n",
    "\r\n",
    "# 필드제거\r\n",
    "df=df.drop(['index','sugar_PH'],axis=1)\r\n",
    "\r\n",
    "\r\n",
    "# 숫자자료인데 object로 되어 있는 자료 float64로 형 변환\r\n",
    "col=['sugar','PH']\r\n",
    "for x in col:\r\n",
    "    df[x]=df[x].astype('float64')\r\n",
    "df.info()\r\n",
    "\r\n",
    "\r\n",
    "# NUll값 채움\r\n",
    "## class의 결측치를 0으로 치환하고자 함.\r\n",
    "numerics = ['int16', 'int32', 'int64', 'float16', 'float32', 'float64']\r\n",
    "\r\n",
    "#  모든 숫자변수의 결측치를 0으로 채우기\r\n",
    "df[df.select_dtypes(include=numerics).columns] =df[df.select_dtypes(include=numerics).columns].fillna(0)\r\n",
    "\r\n",
    "\r\n",
    "df.isna().sum()"
   ],
   "outputs": [],
   "metadata": {}
  },
  {
   "cell_type": "code",
   "execution_count": 6,
   "source": [
    "wine1.head()"
   ],
   "outputs": [
    {
     "output_type": "execute_result",
     "data": {
      "text/html": [
       "<div>\n",
       "<style scoped>\n",
       "    .dataframe tbody tr th:only-of-type {\n",
       "        vertical-align: middle;\n",
       "    }\n",
       "\n",
       "    .dataframe tbody tr th {\n",
       "        vertical-align: top;\n",
       "    }\n",
       "\n",
       "    .dataframe thead th {\n",
       "        text-align: right;\n",
       "    }\n",
       "</style>\n",
       "<table border=\"1\" class=\"dataframe\">\n",
       "  <thead>\n",
       "    <tr style=\"text-align: right;\">\n",
       "      <th></th>\n",
       "      <th>index</th>\n",
       "      <th>alcohol</th>\n",
       "      <th>class</th>\n",
       "    </tr>\n",
       "  </thead>\n",
       "  <tbody>\n",
       "    <tr>\n",
       "      <th>0</th>\n",
       "      <td>7001</td>\n",
       "      <td>9.90</td>\n",
       "      <td>999.0</td>\n",
       "    </tr>\n",
       "    <tr>\n",
       "      <th>1</th>\n",
       "      <td>1</td>\n",
       "      <td>9.40</td>\n",
       "      <td>0.0</td>\n",
       "    </tr>\n",
       "    <tr>\n",
       "      <th>2</th>\n",
       "      <td>2</td>\n",
       "      <td>9.80</td>\n",
       "      <td>0.0</td>\n",
       "    </tr>\n",
       "    <tr>\n",
       "      <th>3</th>\n",
       "      <td>3</td>\n",
       "      <td>9.99</td>\n",
       "      <td>999.0</td>\n",
       "    </tr>\n",
       "    <tr>\n",
       "      <th>4</th>\n",
       "      <td>6498</td>\n",
       "      <td>9.80</td>\n",
       "      <td>0.0</td>\n",
       "    </tr>\n",
       "  </tbody>\n",
       "</table>\n",
       "</div>"
      ],
      "text/plain": [
       "   index  alcohol  class\n",
       "0   7001     9.90  999.0\n",
       "1      1     9.40    0.0\n",
       "2      2     9.80    0.0\n",
       "3      3     9.99  999.0\n",
       "4   6498     9.80    0.0"
      ]
     },
     "metadata": {},
     "execution_count": 6
    }
   ],
   "metadata": {}
  },
  {
   "cell_type": "code",
   "execution_count": 7,
   "source": [
    "wine2.head()"
   ],
   "outputs": [
    {
     "output_type": "execute_result",
     "data": {
      "text/html": [
       "<div>\n",
       "<style scoped>\n",
       "    .dataframe tbody tr th:only-of-type {\n",
       "        vertical-align: middle;\n",
       "    }\n",
       "\n",
       "    .dataframe tbody tr th {\n",
       "        vertical-align: top;\n",
       "    }\n",
       "\n",
       "    .dataframe thead th {\n",
       "        text-align: right;\n",
       "    }\n",
       "</style>\n",
       "<table border=\"1\" class=\"dataframe\">\n",
       "  <thead>\n",
       "    <tr style=\"text-align: right;\">\n",
       "      <th></th>\n",
       "      <th>index</th>\n",
       "      <th>sugar_PH</th>\n",
       "    </tr>\n",
       "  </thead>\n",
       "  <tbody>\n",
       "    <tr>\n",
       "      <th>0</th>\n",
       "      <td>7000</td>\n",
       "      <td>2.3/3.5</td>\n",
       "    </tr>\n",
       "    <tr>\n",
       "      <th>1</th>\n",
       "      <td>1</td>\n",
       "      <td>1.9/3.51</td>\n",
       "    </tr>\n",
       "    <tr>\n",
       "      <th>2</th>\n",
       "      <td>2</td>\n",
       "      <td>2.6/3.2</td>\n",
       "    </tr>\n",
       "    <tr>\n",
       "      <th>3</th>\n",
       "      <td>6498</td>\n",
       "      <td>2.3/3.26</td>\n",
       "    </tr>\n",
       "    <tr>\n",
       "      <th>4</th>\n",
       "      <td>4</td>\n",
       "      <td>1.9/3.16</td>\n",
       "    </tr>\n",
       "  </tbody>\n",
       "</table>\n",
       "</div>"
      ],
      "text/plain": [
       "   index  sugar_PH\n",
       "0   7000   2.3/3.5\n",
       "1      1  1.9/3.51\n",
       "2      2   2.6/3.2\n",
       "3   6498  2.3/3.26\n",
       "4      4  1.9/3.16"
      ]
     },
     "metadata": {},
     "execution_count": 7
    }
   ],
   "metadata": {}
  },
  {
   "cell_type": "code",
   "execution_count": 8,
   "source": [
    "wine = pd.merge(wine1,wine2,how='inner',on='index')"
   ],
   "outputs": [],
   "metadata": {}
  },
  {
   "cell_type": "code",
   "execution_count": 9,
   "source": [
    "wine.head()"
   ],
   "outputs": [
    {
     "output_type": "execute_result",
     "data": {
      "text/html": [
       "<div>\n",
       "<style scoped>\n",
       "    .dataframe tbody tr th:only-of-type {\n",
       "        vertical-align: middle;\n",
       "    }\n",
       "\n",
       "    .dataframe tbody tr th {\n",
       "        vertical-align: top;\n",
       "    }\n",
       "\n",
       "    .dataframe thead th {\n",
       "        text-align: right;\n",
       "    }\n",
       "</style>\n",
       "<table border=\"1\" class=\"dataframe\">\n",
       "  <thead>\n",
       "    <tr style=\"text-align: right;\">\n",
       "      <th></th>\n",
       "      <th>index</th>\n",
       "      <th>alcohol</th>\n",
       "      <th>class</th>\n",
       "      <th>sugar_PH</th>\n",
       "    </tr>\n",
       "  </thead>\n",
       "  <tbody>\n",
       "    <tr>\n",
       "      <th>0</th>\n",
       "      <td>1</td>\n",
       "      <td>9.4</td>\n",
       "      <td>0.0</td>\n",
       "      <td>1.9/3.51</td>\n",
       "    </tr>\n",
       "    <tr>\n",
       "      <th>1</th>\n",
       "      <td>2</td>\n",
       "      <td>9.8</td>\n",
       "      <td>0.0</td>\n",
       "      <td>2.6/3.2</td>\n",
       "    </tr>\n",
       "    <tr>\n",
       "      <th>2</th>\n",
       "      <td>6498</td>\n",
       "      <td>9.8</td>\n",
       "      <td>0.0</td>\n",
       "      <td>2.3/3.26</td>\n",
       "    </tr>\n",
       "    <tr>\n",
       "      <th>3</th>\n",
       "      <td>4</td>\n",
       "      <td>9.8</td>\n",
       "      <td>0.0</td>\n",
       "      <td>1.9/3.16</td>\n",
       "    </tr>\n",
       "    <tr>\n",
       "      <th>4</th>\n",
       "      <td>5</td>\n",
       "      <td>9.4</td>\n",
       "      <td>0.0</td>\n",
       "      <td>1.9/3.51</td>\n",
       "    </tr>\n",
       "  </tbody>\n",
       "</table>\n",
       "</div>"
      ],
      "text/plain": [
       "   index  alcohol  class  sugar_PH\n",
       "0      1      9.4    0.0  1.9/3.51\n",
       "1      2      9.8    0.0   2.6/3.2\n",
       "2   6498      9.8    0.0  2.3/3.26\n",
       "3      4      9.8    0.0  1.9/3.16\n",
       "4      5      9.4    0.0  1.9/3.51"
      ]
     },
     "metadata": {},
     "execution_count": 9
    }
   ],
   "metadata": {}
  },
  {
   "cell_type": "code",
   "execution_count": 10,
   "source": [
    "wine['class'].max(), wine['class'].min()"
   ],
   "outputs": [
    {
     "output_type": "execute_result",
     "data": {
      "text/plain": [
       "(1.0, 0.0)"
      ]
     },
     "metadata": {},
     "execution_count": 10
    }
   ],
   "metadata": {}
  },
  {
   "cell_type": "code",
   "execution_count": 11,
   "source": [
    "wine = wine.sort_values('index').copy()\r\n",
    "wine.head()"
   ],
   "outputs": [
    {
     "output_type": "execute_result",
     "data": {
      "text/html": [
       "<div>\n",
       "<style scoped>\n",
       "    .dataframe tbody tr th:only-of-type {\n",
       "        vertical-align: middle;\n",
       "    }\n",
       "\n",
       "    .dataframe tbody tr th {\n",
       "        vertical-align: top;\n",
       "    }\n",
       "\n",
       "    .dataframe thead th {\n",
       "        text-align: right;\n",
       "    }\n",
       "</style>\n",
       "<table border=\"1\" class=\"dataframe\">\n",
       "  <thead>\n",
       "    <tr style=\"text-align: right;\">\n",
       "      <th></th>\n",
       "      <th>index</th>\n",
       "      <th>alcohol</th>\n",
       "      <th>class</th>\n",
       "      <th>sugar_PH</th>\n",
       "    </tr>\n",
       "  </thead>\n",
       "  <tbody>\n",
       "    <tr>\n",
       "      <th>0</th>\n",
       "      <td>1</td>\n",
       "      <td>9.4</td>\n",
       "      <td>0.0</td>\n",
       "      <td>1.9/3.51</td>\n",
       "    </tr>\n",
       "    <tr>\n",
       "      <th>1</th>\n",
       "      <td>2</td>\n",
       "      <td>9.8</td>\n",
       "      <td>0.0</td>\n",
       "      <td>2.6/3.2</td>\n",
       "    </tr>\n",
       "    <tr>\n",
       "      <th>3</th>\n",
       "      <td>4</td>\n",
       "      <td>9.8</td>\n",
       "      <td>0.0</td>\n",
       "      <td>1.9/3.16</td>\n",
       "    </tr>\n",
       "    <tr>\n",
       "      <th>4</th>\n",
       "      <td>5</td>\n",
       "      <td>9.4</td>\n",
       "      <td>0.0</td>\n",
       "      <td>1.9/3.51</td>\n",
       "    </tr>\n",
       "    <tr>\n",
       "      <th>5</th>\n",
       "      <td>6</td>\n",
       "      <td>9.4</td>\n",
       "      <td>NaN</td>\n",
       "      <td>1.8/3.51</td>\n",
       "    </tr>\n",
       "  </tbody>\n",
       "</table>\n",
       "</div>"
      ],
      "text/plain": [
       "   index  alcohol  class  sugar_PH\n",
       "0      1      9.4    0.0  1.9/3.51\n",
       "1      2      9.8    0.0   2.6/3.2\n",
       "3      4      9.8    0.0  1.9/3.16\n",
       "4      5      9.4    0.0  1.9/3.51\n",
       "5      6      9.4    NaN  1.8/3.51"
      ]
     },
     "metadata": {},
     "execution_count": 11
    }
   ],
   "metadata": {}
  },
  {
   "cell_type": "code",
   "execution_count": 12,
   "source": [
    "df = wine.copy().reset_index(drop=True)\r\n",
    "df.head()"
   ],
   "outputs": [
    {
     "output_type": "execute_result",
     "data": {
      "text/html": [
       "<div>\n",
       "<style scoped>\n",
       "    .dataframe tbody tr th:only-of-type {\n",
       "        vertical-align: middle;\n",
       "    }\n",
       "\n",
       "    .dataframe tbody tr th {\n",
       "        vertical-align: top;\n",
       "    }\n",
       "\n",
       "    .dataframe thead th {\n",
       "        text-align: right;\n",
       "    }\n",
       "</style>\n",
       "<table border=\"1\" class=\"dataframe\">\n",
       "  <thead>\n",
       "    <tr style=\"text-align: right;\">\n",
       "      <th></th>\n",
       "      <th>index</th>\n",
       "      <th>alcohol</th>\n",
       "      <th>class</th>\n",
       "      <th>sugar_PH</th>\n",
       "    </tr>\n",
       "  </thead>\n",
       "  <tbody>\n",
       "    <tr>\n",
       "      <th>0</th>\n",
       "      <td>1</td>\n",
       "      <td>9.4</td>\n",
       "      <td>0.0</td>\n",
       "      <td>1.9/3.51</td>\n",
       "    </tr>\n",
       "    <tr>\n",
       "      <th>1</th>\n",
       "      <td>2</td>\n",
       "      <td>9.8</td>\n",
       "      <td>0.0</td>\n",
       "      <td>2.6/3.2</td>\n",
       "    </tr>\n",
       "    <tr>\n",
       "      <th>2</th>\n",
       "      <td>4</td>\n",
       "      <td>9.8</td>\n",
       "      <td>0.0</td>\n",
       "      <td>1.9/3.16</td>\n",
       "    </tr>\n",
       "    <tr>\n",
       "      <th>3</th>\n",
       "      <td>5</td>\n",
       "      <td>9.4</td>\n",
       "      <td>0.0</td>\n",
       "      <td>1.9/3.51</td>\n",
       "    </tr>\n",
       "    <tr>\n",
       "      <th>4</th>\n",
       "      <td>6</td>\n",
       "      <td>9.4</td>\n",
       "      <td>NaN</td>\n",
       "      <td>1.8/3.51</td>\n",
       "    </tr>\n",
       "  </tbody>\n",
       "</table>\n",
       "</div>"
      ],
      "text/plain": [
       "   index  alcohol  class  sugar_PH\n",
       "0      1      9.4    0.0  1.9/3.51\n",
       "1      2      9.8    0.0   2.6/3.2\n",
       "2      4      9.8    0.0  1.9/3.16\n",
       "3      5      9.4    0.0  1.9/3.51\n",
       "4      6      9.4    NaN  1.8/3.51"
      ]
     },
     "metadata": {},
     "execution_count": 12
    }
   ],
   "metadata": {}
  },
  {
   "cell_type": "code",
   "execution_count": 13,
   "source": [
    "df['sugar'] = df['sugar_PH'].apply(lambda x: x.split('/')[0] if pd.notnull(x) else x)\r\n",
    "df['PH'] = df['sugar_PH'].apply(lambda x: x.split('/')[1] if pd.notnull(x) else x)\r\n",
    "df.head()"
   ],
   "outputs": [
    {
     "output_type": "execute_result",
     "data": {
      "text/html": [
       "<div>\n",
       "<style scoped>\n",
       "    .dataframe tbody tr th:only-of-type {\n",
       "        vertical-align: middle;\n",
       "    }\n",
       "\n",
       "    .dataframe tbody tr th {\n",
       "        vertical-align: top;\n",
       "    }\n",
       "\n",
       "    .dataframe thead th {\n",
       "        text-align: right;\n",
       "    }\n",
       "</style>\n",
       "<table border=\"1\" class=\"dataframe\">\n",
       "  <thead>\n",
       "    <tr style=\"text-align: right;\">\n",
       "      <th></th>\n",
       "      <th>index</th>\n",
       "      <th>alcohol</th>\n",
       "      <th>class</th>\n",
       "      <th>sugar_PH</th>\n",
       "      <th>sugar</th>\n",
       "      <th>PH</th>\n",
       "    </tr>\n",
       "  </thead>\n",
       "  <tbody>\n",
       "    <tr>\n",
       "      <th>0</th>\n",
       "      <td>1</td>\n",
       "      <td>9.4</td>\n",
       "      <td>0.0</td>\n",
       "      <td>1.9/3.51</td>\n",
       "      <td>1.9</td>\n",
       "      <td>3.51</td>\n",
       "    </tr>\n",
       "    <tr>\n",
       "      <th>1</th>\n",
       "      <td>2</td>\n",
       "      <td>9.8</td>\n",
       "      <td>0.0</td>\n",
       "      <td>2.6/3.2</td>\n",
       "      <td>2.6</td>\n",
       "      <td>3.2</td>\n",
       "    </tr>\n",
       "    <tr>\n",
       "      <th>2</th>\n",
       "      <td>4</td>\n",
       "      <td>9.8</td>\n",
       "      <td>0.0</td>\n",
       "      <td>1.9/3.16</td>\n",
       "      <td>1.9</td>\n",
       "      <td>3.16</td>\n",
       "    </tr>\n",
       "    <tr>\n",
       "      <th>3</th>\n",
       "      <td>5</td>\n",
       "      <td>9.4</td>\n",
       "      <td>0.0</td>\n",
       "      <td>1.9/3.51</td>\n",
       "      <td>1.9</td>\n",
       "      <td>3.51</td>\n",
       "    </tr>\n",
       "    <tr>\n",
       "      <th>4</th>\n",
       "      <td>6</td>\n",
       "      <td>9.4</td>\n",
       "      <td>NaN</td>\n",
       "      <td>1.8/3.51</td>\n",
       "      <td>1.8</td>\n",
       "      <td>3.51</td>\n",
       "    </tr>\n",
       "  </tbody>\n",
       "</table>\n",
       "</div>"
      ],
      "text/plain": [
       "   index  alcohol  class  sugar_PH sugar    PH\n",
       "0      1      9.4    0.0  1.9/3.51   1.9  3.51\n",
       "1      2      9.8    0.0   2.6/3.2   2.6   3.2\n",
       "2      4      9.8    0.0  1.9/3.16   1.9  3.16\n",
       "3      5      9.4    0.0  1.9/3.51   1.9  3.51\n",
       "4      6      9.4    NaN  1.8/3.51   1.8  3.51"
      ]
     },
     "metadata": {},
     "execution_count": 13
    }
   ],
   "metadata": {}
  },
  {
   "cell_type": "code",
   "execution_count": 14,
   "source": [
    "df.shape"
   ],
   "outputs": [
    {
     "output_type": "execute_result",
     "data": {
      "text/plain": [
       "(6497, 6)"
      ]
     },
     "metadata": {},
     "execution_count": 14
    }
   ],
   "metadata": {}
  },
  {
   "cell_type": "code",
   "execution_count": 15,
   "source": [
    "df.info()"
   ],
   "outputs": [
    {
     "output_type": "stream",
     "name": "stdout",
     "text": [
      "<class 'pandas.core.frame.DataFrame'>\n",
      "RangeIndex: 6497 entries, 0 to 6496\n",
      "Data columns (total 6 columns):\n",
      " #   Column    Non-Null Count  Dtype  \n",
      "---  ------    --------------  -----  \n",
      " 0   index     6497 non-null   int64  \n",
      " 1   alcohol   6497 non-null   float64\n",
      " 2   class     6493 non-null   float64\n",
      " 3   sugar_PH  6497 non-null   object \n",
      " 4   sugar     6497 non-null   object \n",
      " 5   PH        6497 non-null   object \n",
      "dtypes: float64(2), int64(1), object(3)\n",
      "memory usage: 304.7+ KB\n"
     ]
    }
   ],
   "metadata": {}
  },
  {
   "cell_type": "code",
   "execution_count": 16,
   "source": [
    "df['sugar'] = df['sugar'].astype('float64')\r\n",
    "df['PH'] = df['PH'].astype('float64')"
   ],
   "outputs": [],
   "metadata": {}
  },
  {
   "cell_type": "code",
   "execution_count": 17,
   "source": [
    "df.info()"
   ],
   "outputs": [
    {
     "output_type": "stream",
     "name": "stdout",
     "text": [
      "<class 'pandas.core.frame.DataFrame'>\n",
      "RangeIndex: 6497 entries, 0 to 6496\n",
      "Data columns (total 6 columns):\n",
      " #   Column    Non-Null Count  Dtype  \n",
      "---  ------    --------------  -----  \n",
      " 0   index     6497 non-null   int64  \n",
      " 1   alcohol   6497 non-null   float64\n",
      " 2   class     6493 non-null   float64\n",
      " 3   sugar_PH  6497 non-null   object \n",
      " 4   sugar     6497 non-null   float64\n",
      " 5   PH        6497 non-null   float64\n",
      "dtypes: float64(4), int64(1), object(1)\n",
      "memory usage: 304.7+ KB\n"
     ]
    }
   ],
   "metadata": {}
  },
  {
   "cell_type": "code",
   "execution_count": 18,
   "source": [
    "df.fillna(0)\r\n",
    "df.isna().sum()"
   ],
   "outputs": [
    {
     "output_type": "execute_result",
     "data": {
      "text/plain": [
       "index       0\n",
       "alcohol     0\n",
       "class       4\n",
       "sugar_PH    0\n",
       "sugar       0\n",
       "PH          0\n",
       "dtype: int64"
      ]
     },
     "metadata": {},
     "execution_count": 18
    }
   ],
   "metadata": {}
  },
  {
   "cell_type": "code",
   "execution_count": 22,
   "source": [
    "df['class'] =df['class'].fillna(0)\r\n",
    "df.isna().sum()"
   ],
   "outputs": [
    {
     "output_type": "execute_result",
     "data": {
      "text/plain": [
       "index      0\n",
       "alcohol    0\n",
       "class      0\n",
       "sugar      0\n",
       "PH         0\n",
       "dtype: int64"
      ]
     },
     "metadata": {},
     "execution_count": 22
    }
   ],
   "metadata": {}
  },
  {
   "cell_type": "code",
   "execution_count": 19,
   "source": [
    "del df['sugar_PH']\r\n",
    "df.head()"
   ],
   "outputs": [
    {
     "output_type": "execute_result",
     "data": {
      "text/html": [
       "<div>\n",
       "<style scoped>\n",
       "    .dataframe tbody tr th:only-of-type {\n",
       "        vertical-align: middle;\n",
       "    }\n",
       "\n",
       "    .dataframe tbody tr th {\n",
       "        vertical-align: top;\n",
       "    }\n",
       "\n",
       "    .dataframe thead th {\n",
       "        text-align: right;\n",
       "    }\n",
       "</style>\n",
       "<table border=\"1\" class=\"dataframe\">\n",
       "  <thead>\n",
       "    <tr style=\"text-align: right;\">\n",
       "      <th></th>\n",
       "      <th>index</th>\n",
       "      <th>alcohol</th>\n",
       "      <th>class</th>\n",
       "      <th>sugar</th>\n",
       "      <th>PH</th>\n",
       "    </tr>\n",
       "  </thead>\n",
       "  <tbody>\n",
       "    <tr>\n",
       "      <th>0</th>\n",
       "      <td>1</td>\n",
       "      <td>9.4</td>\n",
       "      <td>0.0</td>\n",
       "      <td>1.9</td>\n",
       "      <td>3.51</td>\n",
       "    </tr>\n",
       "    <tr>\n",
       "      <th>1</th>\n",
       "      <td>2</td>\n",
       "      <td>9.8</td>\n",
       "      <td>0.0</td>\n",
       "      <td>2.6</td>\n",
       "      <td>3.20</td>\n",
       "    </tr>\n",
       "    <tr>\n",
       "      <th>2</th>\n",
       "      <td>4</td>\n",
       "      <td>9.8</td>\n",
       "      <td>0.0</td>\n",
       "      <td>1.9</td>\n",
       "      <td>3.16</td>\n",
       "    </tr>\n",
       "    <tr>\n",
       "      <th>3</th>\n",
       "      <td>5</td>\n",
       "      <td>9.4</td>\n",
       "      <td>0.0</td>\n",
       "      <td>1.9</td>\n",
       "      <td>3.51</td>\n",
       "    </tr>\n",
       "    <tr>\n",
       "      <th>4</th>\n",
       "      <td>6</td>\n",
       "      <td>9.4</td>\n",
       "      <td>NaN</td>\n",
       "      <td>1.8</td>\n",
       "      <td>3.51</td>\n",
       "    </tr>\n",
       "  </tbody>\n",
       "</table>\n",
       "</div>"
      ],
      "text/plain": [
       "   index  alcohol  class  sugar    PH\n",
       "0      1      9.4    0.0    1.9  3.51\n",
       "1      2      9.8    0.0    2.6  3.20\n",
       "2      4      9.8    0.0    1.9  3.16\n",
       "3      5      9.4    0.0    1.9  3.51\n",
       "4      6      9.4    NaN    1.8  3.51"
      ]
     },
     "metadata": {},
     "execution_count": 19
    }
   ],
   "metadata": {}
  },
  {
   "cell_type": "code",
   "execution_count": 23,
   "source": [
    "sns.heatmap(df.corr(),annot=False)"
   ],
   "outputs": [
    {
     "output_type": "execute_result",
     "data": {
      "text/plain": [
       "<AxesSubplot:>"
      ]
     },
     "metadata": {},
     "execution_count": 23
    },
    {
     "output_type": "display_data",
     "data": {
      "image/png": "[encoded data removed]",
      "text/plain": [
       "<Figure size 432x288 with 2 Axes>"
      ]
     },
     "metadata": {
      "needs_background": "light"
     }
    }
   ],
   "metadata": {}
  },
  {
   "cell_type": "code",
   "execution_count": 25,
   "source": [
    "f,ax=plt.subplots(1,2,figsize=(15,5))\r\n",
    "sns.histplot(data=df,x='alcohol',y='PH',kde=True,ax=ax[0])\r\n",
    "sns.histplot(data=df,x='alcohol',y='sugar',kde=True,ax=ax[1])\r\n",
    "plt.show()"
   ],
   "outputs": [
    {
     "output_type": "display_data",
     "data": {
      "image/png": "[encoded data removed]",
      "text/plain": [
       "<Figure size 1080x360 with 2 Axes>"
      ]
     },
     "metadata": {
      "needs_background": "light"
     }
    }
   ],
   "metadata": {}
  },
  {
   "cell_type": "code",
   "execution_count": 28,
   "source": [
    "plt.subplot(1,3,1)\r\n",
    "sns.boxplot(x='class',y='sugar',data=df)\r\n",
    "plt.subplot(1,3,2)\r\n",
    "sns.boxplot(x='class',y='alcohol',data=df)\r\n",
    "plt.subplot(1,3,3)\r\n",
    "sns.boxplot(x='class',y='PH',data=df)\r\n",
    "plt.show()"
   ],
   "outputs": [
    {
     "output_type": "display_data",
     "data": {
      "image/png": "[encoded data removed]",
      "text/plain": [
       "<Figure size 432x288 with 3 Axes>"
      ]
     },
     "metadata": {
      "needs_background": "light"
     }
    }
   ],
   "metadata": {}
  },
  {
   "cell_type": "markdown",
   "source": [
    "### 데이터 분할"
   ],
   "metadata": {}
  },
  {
   "cell_type": "code",
   "execution_count": 29,
   "source": [
    "x_data = df[['index','alcohol','sugar','PH']]\r\n",
    "y_data = df['class']"
   ],
   "outputs": [],
   "metadata": {}
  },
  {
   "cell_type": "code",
   "execution_count": 31,
   "source": [
    "from sklearn.model_selection import train_test_split\r\n",
    "train_X, test_X, train_y, test_y = train_test_split(x_data,y_data,test_size=0.3,random_state=1)"
   ],
   "outputs": [],
   "metadata": {}
  },
  {
   "cell_type": "code",
   "execution_count": 32,
   "source": [
    "from sklearn.preprocessing import StandardScaler\r\n",
    "scaler =StandardScaler()\r\n",
    "scaler.fit(train_X)\r\n",
    "train_scaled = scaler.transform(train_X)\r\n",
    "scaler.fit(test_X)\r\n",
    "test_scaled = scaler.transform(test_X)"
   ],
   "outputs": [],
   "metadata": {}
  },
  {
   "cell_type": "code",
   "execution_count": 33,
   "source": [
    "from sklearn.linear_model import LogisticRegression"
   ],
   "outputs": [],
   "metadata": {}
  },
  {
   "cell_type": "code",
   "execution_count": null,
   "source": [
    "model_lr = LogisticRegression()\r\n",
    "model_lr.fit(train_X,train_y)"
   ],
   "outputs": [],
   "metadata": {}
  },
  {
   "cell_type": "code",
   "execution_count": null,
   "source": [
    "## 참고 예측\r\n",
    "# 새로운 new_X값도스케일링 하고 예측해야함.\r\n",
    "# alcohol, sugar, PH값이\r\n",
    "\r\n",
    "# new_X는 사용자가 웹에서 직접 입력할수도 있고, csv자료일수도 있고, 크롤링으로 얻어온 자료일수도 있고\r\n",
    "# 또는 이미지 또는 사운드의 내용일수도 있음.\r\n",
    "\r\n",
    "# 이 작업은 보통, 위에 있는 작업을 모두 피클링 또는 dump해서 객체화 시켜서 갖고 있게됨.\r\n",
    "\r\n",
    "# 또는 머신러닝에서도 모델값만 갖고 있게 됨.\r\n",
    "# 또는 딥러닝 같은경우는 모델값만 갖고 있게됨\r\n",
    "\r\n",
    "new_XX= np.array([\r\n",
    "    [15, 30, 1.08]\r\n",
    "])\r\n",
    "\r\n",
    "from sklearn.linear_model import LogisticRegression # 만약 위의 내용이 없다면 꼭 해야함.\r\n",
    "from sklearn.preprocessing import StandardScaler   # 만약 위의 내용이 없다면 꼭 해야함.\r\n",
    "scaler = StandardScaler()  # 만약 위의 내용이 없다면 꼭 해야함.\r\n",
    "scaler.fit(new_X)          # 만약 위의 내용이 없다면 꼭 해야함. \r\n",
    "\r\n",
    "newX_scaled = scaler.transform(new_XX)\r\n",
    "y_hat = lr.predict(newX_scaled)\r\n",
    "\r\n",
    "print(int(y_hat[0]))\r\n",
    "#이 자료의 class가 1이면 화이트 화인/0이면 레드와인\r\n",
    "classLabel=['red wine','wihte wine']\r\n",
    "print(classLabel[int(y_hat[0])])\r\n",
    "\r\n",
    "# \r\n",
    "확률=lr.predict_proba(new_XX)   # 출력물이 [0.,1.]  1이될확률이 1이예요. [0.2,0.8]은 1이될확률이 0.8이예요\r\n",
    "classLabel[np.argmax(확률)]  # [0,1]은 1번째 값이 가장 큼. 즉 가장 큰값의 index가 나옴\r\n"
   ],
   "outputs": [],
   "metadata": {}
  },
  {
   "cell_type": "code",
   "execution_count": null,
   "source": [],
   "outputs": [],
   "metadata": {}
  }
 ],
 "metadata": {
  "orig_nbformat": 4,
  "language_info": {
   "name": "python",
   "version": "3.8.10",
   "mimetype": "text/x-python",
   "codemirror_mode": {
    "name": "ipython",
    "version": 3
   },
   "pygments_lexer": "ipython3",
   "nbconvert_exporter": "python",
   "file_extension": ".py"
  },
  "kernelspec": {
   "name": "python3",
   "display_name": "Python 3.8.10 64-bit ('base': conda)"
  },
  "interpreter": {
   "hash": "acbbfebbbdf654efa85aa18169a14b54796a806b8c18a3c243660030e08aa454"
  }
 },
 "nbformat": 4,
 "nbformat_minor": 2
}