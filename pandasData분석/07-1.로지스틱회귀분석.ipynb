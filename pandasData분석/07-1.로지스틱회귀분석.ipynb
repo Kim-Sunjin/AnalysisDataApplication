{
 "cells": [
  {
   "cell_type": "code",
   "execution_count": 1,
   "source": [
    "import pandas as pd\r\n",
    "import numpy as np"
   ],
   "outputs": [],
   "metadata": {}
  },
  {
   "cell_type": "code",
   "execution_count": 18,
   "source": [
    "train_df = pd.read_excel('https://github.com/cranberryai/todak_todak_python/blob/master/machine_learning/regression/%E1%84%82%E1%85%A6%E1%84%8B%E1%85%B5%E1%84%87%E1%85%A5TV%E1%84%80%E1%85%A1%E1%84%80%E1%85%A7%E1%86%A8_%E1%84%8E%E1%85%AC%E1%84%8C%E1%85%A9%E1%86%BC.xlsx?raw=true', sheet_name='train')\r\n",
    "test_df = pd.read_excel('https://github.com/cranberryai/todak_todak_python/blob/master/machine_learning/regression/%E1%84%82%E1%85%A6%E1%84%8B%E1%85%B5%E1%84%87%E1%85%A5TV%E1%84%80%E1%85%A1%E1%84%80%E1%85%A7%E1%86%A8_%E1%84%8E%E1%85%AC%E1%84%8C%E1%85%A9%E1%86%BC.xlsx?raw=true', sheet_name='test')"
   ],
   "outputs": [],
   "metadata": {}
  },
  {
   "cell_type": "code",
   "execution_count": 3,
   "source": [
    "train_df.info()"
   ],
   "outputs": [
    {
     "output_type": "stream",
     "name": "stdout",
     "text": [
      "<class 'pandas.core.frame.DataFrame'>\n",
      "RangeIndex: 7000 entries, 0 to 6999\n",
      "Data columns (total 12 columns):\n",
      " #   Column  Non-Null Count  Dtype\n",
      "---  ------  --------------  -----\n",
      " 0   ID      7000 non-null   int64\n",
      " 1   판매가     7000 non-null   int64\n",
      " 2   화면크기    7000 non-null   int64\n",
      " 3   형태      7000 non-null   int64\n",
      " 4   해상도     7000 non-null   int64\n",
      " 5   화면비율    7000 non-null   int64\n",
      " 6   LCD     7000 non-null   int64\n",
      " 7   LED     7000 non-null   int64\n",
      " 8   OLED    7000 non-null   int64\n",
      " 9   QLED    7000 non-null   int64\n",
      " 10  단자      7000 non-null   int64\n",
      " 11  부가기능    7000 non-null   int64\n",
      "dtypes: int64(12)\n",
      "memory usage: 656.4 KB\n"
     ]
    }
   ],
   "metadata": {}
  },
  {
   "cell_type": "code",
   "execution_count": 4,
   "source": [
    "train_df.isna().sum()"
   ],
   "outputs": [
    {
     "output_type": "execute_result",
     "data": {
      "text/plain": [
       "ID      0\n",
       "판매가     0\n",
       "화면크기    0\n",
       "형태      0\n",
       "해상도     0\n",
       "화면비율    0\n",
       "LCD     0\n",
       "LED     0\n",
       "OLED    0\n",
       "QLED    0\n",
       "단자      0\n",
       "부가기능    0\n",
       "dtype: int64"
      ]
     },
     "metadata": {},
     "execution_count": 4
    }
   ],
   "metadata": {}
  },
  {
   "cell_type": "code",
   "execution_count": 5,
   "source": [
    "test_df.isna().sum()"
   ],
   "outputs": [
    {
     "output_type": "execute_result",
     "data": {
      "text/plain": [
       "ID      0\n",
       "판매가     0\n",
       "화면크기    0\n",
       "형태      0\n",
       "해상도     0\n",
       "화면비율    0\n",
       "LCD     0\n",
       "LED     0\n",
       "OLED    0\n",
       "QLED    0\n",
       "단자      0\n",
       "부가기능    0\n",
       "dtype: int64"
      ]
     },
     "metadata": {},
     "execution_count": 5
    }
   ],
   "metadata": {}
  },
  {
   "cell_type": "code",
   "execution_count": 6,
   "source": [
    "from sklearn.linear_model import LinearRegression"
   ],
   "outputs": [],
   "metadata": {}
  },
  {
   "cell_type": "code",
   "execution_count": 8,
   "source": [
    "# 버려야할 데이터 비율\r\n",
    "len(train_df[(train_df['LCD']==0) & (train_df['LED']==0) & (train_df['OLED']==0) & (train_df['QLED']==0)])/len(train_df)"
   ],
   "outputs": [
    {
     "output_type": "execute_result",
     "data": {
      "text/plain": [
       "0.052"
      ]
     },
     "metadata": {},
     "execution_count": 8
    }
   ],
   "metadata": {}
  },
  {
   "cell_type": "code",
   "execution_count": 9,
   "source": [
    "search_df = train_df[(train_df['LCD']==0) & (train_df['LED']==0) & (train_df['OLED']==0) & (train_df['QLED']==0)]\r\n",
    "train_df = train_df.drop(search_df.index, axis=0)\r\n",
    "search_df = test_df[(test_df['LCD']==0) & (test_df['LED']==0) & (test_df['OLED']==0) & (test_df['QLED']==0)]\r\n",
    "test_df = test_df.drop(search_df.index, axis=0)"
   ],
   "outputs": [],
   "metadata": {}
  },
  {
   "cell_type": "code",
   "execution_count": 10,
   "source": [
    "print(train_df.info())"
   ],
   "outputs": [
    {
     "output_type": "stream",
     "name": "stdout",
     "text": [
      "<class 'pandas.core.frame.DataFrame'>\n",
      "Int64Index: 6636 entries, 0 to 6999\n",
      "Data columns (total 12 columns):\n",
      " #   Column  Non-Null Count  Dtype\n",
      "---  ------  --------------  -----\n",
      " 0   ID      6636 non-null   int64\n",
      " 1   판매가     6636 non-null   int64\n",
      " 2   화면크기    6636 non-null   int64\n",
      " 3   형태      6636 non-null   int64\n",
      " 4   해상도     6636 non-null   int64\n",
      " 5   화면비율    6636 non-null   int64\n",
      " 6   LCD     6636 non-null   int64\n",
      " 7   LED     6636 non-null   int64\n",
      " 8   OLED    6636 non-null   int64\n",
      " 9   QLED    6636 non-null   int64\n",
      " 10  단자      6636 non-null   int64\n",
      " 11  부가기능    6636 non-null   int64\n",
      "dtypes: int64(12)\n",
      "memory usage: 674.0 KB\n",
      "None\n"
     ]
    }
   ],
   "metadata": {}
  },
  {
   "cell_type": "code",
   "execution_count": 11,
   "source": [
    "x_train = train_df.drop(['ID', '판매가'], axis=1)\r\n",
    "x_test = test_df.drop(['ID', '판매가'], axis=1)\r\n",
    "y_train = train_df['판매가']\r\n",
    "y_test = test_df['판매가']"
   ],
   "outputs": [],
   "metadata": {}
  },
  {
   "cell_type": "code",
   "execution_count": 12,
   "source": [
    "# x값과 y값의 행갯수가 일치해야함\r\n",
    "# train, test의 열갯수가 일치해야함\r\n",
    "print(x_train.shape,y_train.shape)\r\n",
    "print(x_test.shape,y_test.shape)\r\n",
    "# 딥러닝에서는 입력 x의 갯수를 사용자가 직접 설정해야함"
   ],
   "outputs": [
    {
     "output_type": "stream",
     "name": "stdout",
     "text": [
      "(6636, 10) (6636,)\n",
      "(2816, 10) (2816,)\n"
     ]
    }
   ],
   "metadata": {}
  },
  {
   "cell_type": "code",
   "execution_count": null,
   "source": [
    "# 머신러닝 딥러닝에서는 array만 처리함\r\n",
    "x_train = x_train.to_numpy()\r\n",
    "x_test = x_test.to_numpy()"
   ],
   "outputs": [],
   "metadata": {}
  },
  {
   "cell_type": "code",
   "execution_count": 13,
   "source": [
    "model = LinearRegression()"
   ],
   "outputs": [],
   "metadata": {}
  },
  {
   "cell_type": "code",
   "execution_count": 14,
   "source": [
    "model.fit(x_train,y_train)"
   ],
   "outputs": [
    {
     "output_type": "execute_result",
     "data": {
      "text/plain": [
       "LinearRegression()"
      ]
     },
     "metadata": {},
     "execution_count": 14
    }
   ],
   "metadata": {}
  },
  {
   "cell_type": "code",
   "execution_count": 15,
   "source": [
    "print(model.score(x_test,y_test))"
   ],
   "outputs": [
    {
     "output_type": "stream",
     "name": "stdout",
     "text": [
      "0.5365762057290635\n"
     ]
    }
   ],
   "metadata": {}
  },
  {
   "cell_type": "code",
   "execution_count": 16,
   "source": [
    "x_test = np.array([\r\n",
    "    [55, 0, 2160, 1, 0, 1, 0, 0, 3, 1]\r\n",
    "])\r\n",
    "y_predict = model.predict(x_test)\r\n",
    "\r\n",
    "print(y_predict[0])"
   ],
   "outputs": [
    {
     "output_type": "stream",
     "name": "stdout",
     "text": [
      "764228.6408461407\n"
     ]
    }
   ],
   "metadata": {}
  },
  {
   "cell_type": "markdown",
   "source": [
    "## Lasso 사용"
   ],
   "metadata": {}
  },
  {
   "cell_type": "code",
   "execution_count": 17,
   "source": [
    "from sklearn.linear_model import Lasso"
   ],
   "outputs": [],
   "metadata": {}
  },
  {
   "cell_type": "code",
   "execution_count": 19,
   "source": [
    "search_df = train_df[(train_df['LCD']==0) & (train_df['LED']==0) & (train_df['OLED']==0) & (train_df['QLED']==0)]\r\n",
    "train_df = train_df.drop(search_df.index, axis=0)\r\n",
    "search_df = test_df[(test_df['LCD']==0) & (test_df['LED']==0) & (test_df['OLED']==0) & (test_df['QLED']==0)]\r\n",
    "test_df = test_df.drop(search_df.index, axis=0)\r\n",
    "x_train = train_df.drop(['ID', '판매가'], axis=1)\r\n",
    "x_test = test_df.drop(['ID', '판매가'], axis=1)\r\n",
    "y_train = train_df['판매가']\r\n",
    "y_test = test_df['판매가']"
   ],
   "outputs": [],
   "metadata": {}
  },
  {
   "cell_type": "code",
   "execution_count": null,
   "source": [
    "# 편차가 큰 해상도 제외할 데이터 판단\r\n",
    "# 전처리 수행\r\n",
    "# 이상치 제거\r\n",
    "# 다중공선성도 확인. VIF (x값들 사이의 연관도)\r\n",
    "# P value값이 큰 x 제외"
   ],
   "outputs": [],
   "metadata": {}
  },
  {
   "cell_type": "code",
   "execution_count": 20,
   "source": [
    "x_train = x_train.to_numpy()\r\n",
    "x_test = x_test.to_numpy()"
   ],
   "outputs": [],
   "metadata": {}
  },
  {
   "cell_type": "code",
   "execution_count": 22,
   "source": [
    "# alpha값이 클수록 규제를 강하게 함. (alpha가 규제 정도를 나타냄)\r\n",
    "alpha = [1.0,0.1,100]\r\n",
    "for i in alpha:\r\n",
    "    model_las = Lasso(alpha=i)\r\n",
    "    model_las.fit(x_train,y_train)\r\n",
    "    print(model_las.score(x_test,y_test))"
   ],
   "outputs": [
    {
     "output_type": "stream",
     "name": "stdout",
     "text": [
      "0.536576162556117\n",
      "0.5365762014209382\n",
      "0.5366039678040928\n"
     ]
    },
    {
     "output_type": "stream",
     "name": "stderr",
     "text": [
      "C:\\Users\\igksj\\anaconda3\\lib\\site-packages\\sklearn\\linear_model\\_coordinate_descent.py:530: ConvergenceWarning: Objective did not converge. You might want to increase the number of iterations. Duality gap: 11166778068930.0, tolerance: 1945429560415.7078\n",
      "  model = cd_fast.enet_coordinate_descent(\n",
      "C:\\Users\\igksj\\anaconda3\\lib\\site-packages\\sklearn\\linear_model\\_coordinate_descent.py:530: ConvergenceWarning: Objective did not converge. You might want to increase the number of iterations. Duality gap: 11148959678351.0, tolerance: 1945429560415.7078\n",
      "  model = cd_fast.enet_coordinate_descent(\n"
     ]
    }
   ],
   "metadata": {}
  },
  {
   "cell_type": "markdown",
   "source": [
    "- 과대적합 : 훈련세트의 정확도가 검증 세트 정확도보다 높은 경우\r\n",
    "- 과소적합 : 훈련, 검증 세트의 정확도가 모두 낮은 성능을 내는 경우"
   ],
   "metadata": {}
  },
  {
   "cell_type": "markdown",
   "source": [
    "## 시그모이드 함수"
   ],
   "metadata": {}
  },
  {
   "cell_type": "code",
   "execution_count": 26,
   "source": [
    "x = [12,3,4,3]\r\n",
    "y=['생존','생존','사망','생존']\r\n",
    "\r\n",
    "y_label = []\r\n",
    "for i in y:\r\n",
    "    if i=='생존':\r\n",
    "        y_label.append(1)\r\n",
    "    else:\r\n",
    "        y_label.append(0)\r\n",
    "\r\n",
    "print(y_label)\r\n",
    "\r\n",
    "x=np.array(x)\r\n",
    "# x를 0-1 사이값으로 변환해서 계산\r\n",
    "y_hat=1/(1+np.exp(-x)) # w,b 값을 계산해서 넣어야함\r\n",
    "y_hat_result = []\r\n",
    "for i in y_hat:\r\n",
    "    if i > 0.5:\r\n",
    "        y_hat_result.append(1)\r\n",
    "    else:\r\n",
    "        y_hat_result.append(0)\r\n",
    "y_hat_result"
   ],
   "outputs": [
    {
     "output_type": "stream",
     "name": "stdout",
     "text": [
      "[1, 1, 0, 1]\n"
     ]
    },
    {
     "output_type": "execute_result",
     "data": {
      "text/plain": [
       "[1, 1, 1, 1]"
      ]
     },
     "metadata": {},
     "execution_count": 26
    }
   ],
   "metadata": {}
  },
  {
   "cell_type": "code",
   "execution_count": null,
   "source": [
    "# 로지스틱회귀분석에서 결과값이 0 또는 1로 나오면 분류\r\n",
    "#                       결과값이 0~1사이로 나오게 하면 회귀\r\n",
    "# 로짓(log+odds) "
   ],
   "outputs": [],
   "metadata": {}
  },
  {
   "cell_type": "markdown",
   "source": [
    "## 로지스틱 회귀모델"
   ],
   "metadata": {}
  },
  {
   "cell_type": "code",
   "execution_count": 28,
   "source": [
    "from sklearn.model_selection import train_test_split\r\n",
    "from sklearn.linear_model import LogisticRegression"
   ],
   "outputs": [],
   "metadata": {}
  },
  {
   "cell_type": "code",
   "execution_count": 29,
   "source": [
    "x_data = np.array([\r\n",
    "    [2, 1],\r\n",
    "    [3, 2],\r\n",
    "    [3, 4],\r\n",
    "    [5, 5],\r\n",
    "    [7, 5],\r\n",
    "    [2, 5],\r\n",
    "    [8, 9],\r\n",
    "    [9, 10],\r\n",
    "    [6, 12],\r\n",
    "    [9, 2],\r\n",
    "    [6, 10],\r\n",
    "    [2, 4]\r\n",
    "])\r\n",
    "y_data = np.array([0, 0, 0, 1, 1, 0, 1, 1, 1, 1, 1, 0])\r\n",
    "labels = ['fail', 'pass']"
   ],
   "outputs": [],
   "metadata": {}
  },
  {
   "cell_type": "code",
   "execution_count": 30,
   "source": [
    "x_train, x_test, y_train, y_test = train_test_split(x_data, y_data, test_size=0.3, random_state=777)"
   ],
   "outputs": [],
   "metadata": {}
  },
  {
   "cell_type": "code",
   "execution_count": 31,
   "source": [
    "model = LogisticRegression(penalty='none')\r\n",
    "model.fit(x_train, y_train)"
   ],
   "outputs": [
    {
     "output_type": "execute_result",
     "data": {
      "text/plain": [
       "LogisticRegression(penalty='none')"
      ]
     },
     "metadata": {},
     "execution_count": 31
    }
   ],
   "metadata": {}
  },
  {
   "cell_type": "code",
   "execution_count": 32,
   "source": [
    "x_test = np.array([\r\n",
    "    [4, 6]\r\n",
    "])"
   ],
   "outputs": [],
   "metadata": {}
  },
  {
   "cell_type": "code",
   "execution_count": 33,
   "source": [
    "y_predict = model.predict(x_test)\r\n",
    "print(y_predict)\r\n",
    "print(y_predict[0])\r\n",
    "label = labels[y_predict[0]]\r\n",
    "y_predict = model.predict_proba(x_test)\r\n",
    "confidence = y_predict[0][y_predict[0].argmax()]"
   ],
   "outputs": [
    {
     "output_type": "stream",
     "name": "stdout",
     "text": [
      "[0]\n",
      "0\n"
     ]
    }
   ],
   "metadata": {}
  },
  {
   "cell_type": "code",
   "execution_count": 43,
   "source": [
    "y_predict"
   ],
   "outputs": [
    {
     "output_type": "execute_result",
     "data": {
      "text/plain": [
       "array([[8.44303591e-01, 1.55696409e-01],\n",
       "       [2.66453526e-14, 1.00000000e+00]])"
      ]
     },
     "metadata": {},
     "execution_count": 43
    }
   ],
   "metadata": {}
  },
  {
   "cell_type": "code",
   "execution_count": 34,
   "source": [
    "print(label, confidence)"
   ],
   "outputs": [
    {
     "output_type": "stream",
     "name": "stdout",
     "text": [
      "fail 0.8443035908681313\n"
     ]
    }
   ],
   "metadata": {}
  },
  {
   "cell_type": "code",
   "execution_count": 42,
   "source": [
    "x_test = [\r\n",
    "    [4, 6], \r\n",
    "    [10, 11]\r\n",
    "]"
   ],
   "outputs": [],
   "metadata": {}
  },
  {
   "cell_type": "code",
   "execution_count": 40,
   "source": [
    "y_predict = model.predict(x_test)\r\n",
    "print(y_predict)\r\n",
    "print(y_predict[0]) \r\n",
    "label = labels[y_predict[0]]\r\n",
    "y_predict = model.predict_proba(x_test)\r\n",
    "confidence = y_predict[0][y_predict[0].argmax()]\r\n",
    "print(label, confidence) \r\n",
    "print(y_predict[1]) "
   ],
   "outputs": [
    {
     "output_type": "stream",
     "name": "stdout",
     "text": [
      "[0 1]\n",
      "0\n",
      "fail 0.8443035908681313\n",
      "[2.66453526e-14 1.00000000e+00]\n"
     ]
    }
   ],
   "metadata": {}
  },
  {
   "cell_type": "code",
   "execution_count": 41,
   "source": [
    "y_predict"
   ],
   "outputs": [
    {
     "output_type": "execute_result",
     "data": {
      "text/plain": [
       "array([[8.44303591e-01, 1.55696409e-01],\n",
       "       [2.66453526e-14, 1.00000000e+00]])"
      ]
     },
     "metadata": {},
     "execution_count": 41
    }
   ],
   "metadata": {}
  },
  {
   "cell_type": "code",
   "execution_count": null,
   "source": [
    "label = labels[y_predict[1]]\r\n",
    "y_predict = model.predict_proba(x_test)\r\n",
    "confidence = y_predict[1][y_predict[1].argmax()]\r\n",
    "print(label, confidence)"
   ],
   "outputs": [],
   "metadata": {}
  },
  {
   "cell_type": "markdown",
   "source": [
    "## 혼합행렬(이항분류의 평가분류지표의 한 종류)\r\n",
    "- 이항분류는 자료를 미리 같은 범위로 전처리함"
   ],
   "metadata": {}
  },
  {
   "cell_type": "code",
   "execution_count": 51,
   "source": [
    "from sklearn.metrics import confusion_matrix\r\n",
    "from sklearn.model_selection import train_test_split\r\n",
    "from sklearn.linear_model import LogisticRegression\r\n",
    "import numpy as np"
   ],
   "outputs": [],
   "metadata": {}
  },
  {
   "cell_type": "code",
   "execution_count": 46,
   "source": [
    "x_data = np.array([\r\n",
    "    [2, 1],\r\n",
    "    [3, 2],\r\n",
    "    [3, 4],\r\n",
    "    [5, 5],\r\n",
    "    [7, 5],\r\n",
    "    [2, 5],\r\n",
    "    [8, 9],\r\n",
    "    [9, 10],\r\n",
    "    [6, 12],\r\n",
    "    [9, 2],\r\n",
    "    [6, 10],\r\n",
    "    [2, 4]\r\n",
    "])\r\n",
    "y_data = np.array([0, 0, 0, 1, 1, 0, 1, 1, 1, 1, 1, 0])"
   ],
   "outputs": [],
   "metadata": {}
  },
  {
   "cell_type": "code",
   "execution_count": 49,
   "source": [
    "labels = ['fail', 'pass']"
   ],
   "outputs": [],
   "metadata": {}
  },
  {
   "cell_type": "code",
   "execution_count": 52,
   "source": [
    "x_train, x_test, y_train, y_test = train_test_split(x_data, y_data, test_size=0.3, random_state=777, stratify=y_data)"
   ],
   "outputs": [],
   "metadata": {}
  },
  {
   "cell_type": "code",
   "execution_count": 53,
   "source": [
    "model = LogisticRegression()"
   ],
   "outputs": [],
   "metadata": {}
  },
  {
   "cell_type": "code",
   "execution_count": 55,
   "source": [
    "model.fit(x_train,y_train)"
   ],
   "outputs": [
    {
     "output_type": "execute_result",
     "data": {
      "text/plain": [
       "LogisticRegression()"
      ]
     },
     "metadata": {},
     "execution_count": 55
    }
   ],
   "metadata": {}
  },
  {
   "cell_type": "code",
   "execution_count": 56,
   "source": [
    "y_predict = model.predict(x_test)\r\n",
    "print(y_test)\r\n",
    "print(y_predict)"
   ],
   "outputs": [
    {
     "output_type": "stream",
     "name": "stdout",
     "text": [
      "[1 1 0 0]\n",
      "[1 1 0 0]\n"
     ]
    }
   ],
   "metadata": {}
  },
  {
   "cell_type": "code",
   "execution_count": 57,
   "source": [
    "cm = confusion_matrix(y_test,y_predict)\r\n",
    "print(cm)"
   ],
   "outputs": [
    {
     "output_type": "stream",
     "name": "stdout",
     "text": [
      "[[2 0]\n",
      " [0 2]]\n"
     ]
    }
   ],
   "metadata": {}
  },
  {
   "cell_type": "code",
   "execution_count": 58,
   "source": [
    "import matplotlib.pyplot as plt\r\n",
    "import seaborn as sns"
   ],
   "outputs": [],
   "metadata": {}
  },
  {
   "cell_type": "markdown",
   "source": [
    "- 재현율 : 실제 True인 데이터 중 예측도 True인 비율\r\n",
    "- 정밀도 : model이 True라고 예측한 것 중 실제로 True인 비율\r\n",
    "- F1-score : 재현율과 정밀도의 중요성이 같다고 가정하고, 두 지표의 조화평균으로 만들어진 지표"
   ],
   "metadata": {}
  },
  {
   "cell_type": "code",
   "execution_count": 59,
   "source": [
    "sns.heatmap(cm,annot=True)\r\n",
    "plt.show()"
   ],
   "outputs": [
    {
     "output_type": "display_data",
     "data": {
      "image/png": "[encoded data removed]",
      "text/plain": [
       "<Figure size 432x288 with 2 Axes>"
      ]
     },
     "metadata": {
      "needs_background": "light"
     }
    }
   ],
   "metadata": {}
  },
  {
   "cell_type": "code",
   "execution_count": 61,
   "source": [
    "from sklearn.metrics import classification_report\r\n",
    "from sklearn.metrics import accuracy_score\r\n",
    "\r\n",
    "target_name = ['class0','class1']\r\n",
    "print(classification_report(y_test,y_predict,target_names=target_name))\r\n",
    "print(accuracy_score(y_test,y_predict))"
   ],
   "outputs": [
    {
     "output_type": "stream",
     "name": "stdout",
     "text": [
      "              precision    recall  f1-score   support\n",
      "\n",
      "      class0       1.00      1.00      1.00         2\n",
      "      class1       1.00      1.00      1.00         2\n",
      "\n",
      "    accuracy                           1.00         4\n",
      "   macro avg       1.00      1.00      1.00         4\n",
      "weighted avg       1.00      1.00      1.00         4\n",
      "\n",
      "1.0\n"
     ]
    }
   ],
   "metadata": {}
  },
  {
   "cell_type": "markdown",
   "source": [
    "### 값의 연관성 확인\r\n",
    "- summary 보이는 Pvalue값이 0.05보다 크면 x값에서 제거함."
   ],
   "metadata": {}
  },
  {
   "cell_type": "code",
   "execution_count": 62,
   "source": [
    "import statsmodels.api as sm\r\n",
    "logit_mod = sm.Logit(y_train, x_train)\r\n",
    "results = logit_mod.fit()\r\n",
    "results.summary()"
   ],
   "outputs": [
    {
     "output_type": "stream",
     "name": "stdout",
     "text": [
      "Optimization terminated successfully.\n",
      "         Current function value: 0.483183\n",
      "         Iterations 6\n"
     ]
    },
    {
     "output_type": "execute_result",
     "data": {
      "text/html": [
       "<table class=\"simpletable\">\n",
       "<caption>Logit Regression Results</caption>\n",
       "<tr>\n",
       "  <th>Dep. Variable:</th>           <td>y</td>        <th>  No. Observations:  </th>  <td>     8</td> \n",
       "</tr>\n",
       "<tr>\n",
       "  <th>Model:</th>                 <td>Logit</td>      <th>  Df Residuals:      </th>  <td>     6</td> \n",
       "</tr>\n",
       "<tr>\n",
       "  <th>Method:</th>                 <td>MLE</td>       <th>  Df Model:          </th>  <td>     1</td> \n",
       "</tr>\n",
       "<tr>\n",
       "  <th>Date:</th>            <td>Tue, 14 Sep 2021</td> <th>  Pseudo R-squ.:     </th>  <td>0.2696</td> \n",
       "</tr>\n",
       "<tr>\n",
       "  <th>Time:</th>                <td>15:10:52</td>     <th>  Log-Likelihood:    </th> <td> -3.8655</td>\n",
       "</tr>\n",
       "<tr>\n",
       "  <th>converged:</th>             <td>True</td>       <th>  LL-Null:           </th> <td> -5.2925</td>\n",
       "</tr>\n",
       "<tr>\n",
       "  <th>Covariance Type:</th>     <td>nonrobust</td>    <th>  LLR p-value:       </th>  <td>0.09114</td>\n",
       "</tr>\n",
       "</table>\n",
       "<table class=\"simpletable\">\n",
       "<tr>\n",
       "   <td></td>     <th>coef</th>     <th>std err</th>      <th>z</th>      <th>P>|z|</th>  <th>[0.025</th>    <th>0.975]</th>  \n",
       "</tr>\n",
       "<tr>\n",
       "  <th>x1</th> <td>    0.0800</td> <td>    0.583</td> <td>    0.137</td> <td> 0.891</td> <td>   -1.063</td> <td>    1.223</td>\n",
       "</tr>\n",
       "<tr>\n",
       "  <th>x2</th> <td>    0.1752</td> <td>    0.538</td> <td>    0.326</td> <td> 0.744</td> <td>   -0.879</td> <td>    1.229</td>\n",
       "</tr>\n",
       "</table>"
      ],
      "text/plain": [
       "<class 'statsmodels.iolib.summary.Summary'>\n",
       "\"\"\"\n",
       "                           Logit Regression Results                           \n",
       "==============================================================================\n",
       "Dep. Variable:                      y   No. Observations:                    8\n",
       "Model:                          Logit   Df Residuals:                        6\n",
       "Method:                           MLE   Df Model:                            1\n",
       "Date:                Tue, 14 Sep 2021   Pseudo R-squ.:                  0.2696\n",
       "Time:                        15:10:52   Log-Likelihood:                -3.8655\n",
       "converged:                       True   LL-Null:                       -5.2925\n",
       "Covariance Type:            nonrobust   LLR p-value:                   0.09114\n",
       "==============================================================================\n",
       "                 coef    std err          z      P>|z|      [0.025      0.975]\n",
       "------------------------------------------------------------------------------\n",
       "x1             0.0800      0.583      0.137      0.891      -1.063       1.223\n",
       "x2             0.1752      0.538      0.326      0.744      -0.879       1.229\n",
       "==============================================================================\n",
       "\"\"\""
      ]
     },
     "metadata": {},
     "execution_count": 62
    }
   ],
   "metadata": {}
  },
  {
   "cell_type": "markdown",
   "source": [
    "## ROC\r\n",
    "- 이항분류에서 일치율을 시각화함. 이때 ROC의 하단면적을 AUC라고함."
   ],
   "metadata": {}
  },
  {
   "cell_type": "code",
   "execution_count": 63,
   "source": [
    "import numpy as np\r\n",
    "import pandas as pd\r\n",
    "import statsmodels.api as sm"
   ],
   "outputs": [],
   "metadata": {}
  },
  {
   "cell_type": "code",
   "execution_count": null,
   "source": [
    "# y : admit(입학허가), x :(gre 점수, gpa 학점 평균, prestige 출신학교)\r\n",
    "#  출신학교를 1,2,3,4로 일종의 카테고리(그룹항목)으로 함\r\n",
    "df = pd.read_csv('admissions.csv') # 캐글 데이터\r\n",
    "df.head()"
   ],
   "outputs": [],
   "metadata": {}
  }
 ],
 "metadata": {
  "orig_nbformat": 4,
  "language_info": {
   "name": "python",
   "version": "3.8.10",
   "mimetype": "text/x-python",
   "codemirror_mode": {
    "name": "ipython",
    "version": 3
   },
   "pygments_lexer": "ipython3",
   "nbconvert_exporter": "python",
   "file_extension": ".py"
  },
  "kernelspec": {
   "name": "python3",
   "display_name": "Python 3.8.10 64-bit ('base': conda)"
  },
  "interpreter": {
   "hash": "acbbfebbbdf654efa85aa18169a14b54796a806b8c18a3c243660030e08aa454"
  }
 },
 "nbformat": 4,
 "nbformat_minor": 2
}