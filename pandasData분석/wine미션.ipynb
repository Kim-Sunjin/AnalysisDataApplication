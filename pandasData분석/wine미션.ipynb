{
 "cells": [
  {
   "cell_type": "code",
   "execution_count": 1,
   "source": [
    "# 메모리 변수 모두 제거\r\n",
    "all = [var for var in globals() if var[0] != \"_\"]\r\n",
    "for var in all:\r\n",
    "    del globals()[var]"
   ],
   "outputs": [],
   "metadata": {}
  },
  {
   "cell_type": "code",
   "execution_count": 2,
   "source": [
    "import pandas as pd\r\n",
    "import numpy as np\r\n",
    "import seaborn as sns"
   ],
   "outputs": [],
   "metadata": {}
  },
  {
   "cell_type": "code",
   "execution_count": 3,
   "source": [
    "from matplotlib import font_manager, rc\r\n",
    "import matplotlib\r\n",
    "import matplotlib.pyplot as plt\r\n",
    "import platform"
   ],
   "outputs": [],
   "metadata": {}
  },
  {
   "cell_type": "code",
   "execution_count": 44,
   "source": [
    "# 시각화를 위한 한글 폰트 표시 작업\r\n",
    "if platform.system() == 'Windows':\r\n",
    "    font_name = font_manager.FontProperties(fname='C:/Windows/Fonts/malgun.ttf').get_name()\r\n",
    "    rc('font', family=font_name)\r\n",
    "else:\r\n",
    "    rc('font', family='AppleGothic')\r\n",
    "matplotlib.rcParams['axes.unicode_minus'] = False"
   ],
   "outputs": [],
   "metadata": {}
  },
  {
   "cell_type": "code",
   "execution_count": 4,
   "source": [
    "wine1 = pd.read_csv('C:/Users/igksj/Desktop/분반 자료/wine1.csv', sep='\\t')\r\n",
    "wine2 = pd.read_csv('C:/Users/igksj/Desktop/분반 자료/wine2.csv',sep='\\t')"
   ],
   "outputs": [],
   "metadata": {}
  },
  {
   "cell_type": "code",
   "execution_count": 6,
   "source": [
    "intersection_idx = list(set(wine1['index']).intersection(wine2['index']))\r\n",
    "\r\n",
    "wine = wine1.loc[\r\n",
    "    wine1['index'].apply(lambda x: x in intersection_idx)].copy()\r\n",
    "\r\n",
    "wine = wine.sort_values(by = 'index').reset_index(drop=True)\r\n",
    "\r\n",
    "print(wine.info())\r\n",
    "print(wine.head(5))"
   ],
   "outputs": [
    {
     "output_type": "stream",
     "name": "stdout",
     "text": [
      "<class 'pandas.core.frame.DataFrame'>\n",
      "RangeIndex: 6497 entries, 0 to 6496\n",
      "Data columns (total 3 columns):\n",
      " #   Column   Non-Null Count  Dtype  \n",
      "---  ------   --------------  -----  \n",
      " 0   index    6497 non-null   int64  \n",
      " 1   alcohol  6497 non-null   float64\n",
      " 2   class    6493 non-null   float64\n",
      "dtypes: float64(2), int64(1)\n",
      "memory usage: 152.4 KB\n",
      "None\n",
      "   index  alcohol  class\n",
      "0      1      9.4    0.0\n",
      "1      2      9.8    0.0\n",
      "2      4      9.8    0.0\n",
      "3      5      9.4    0.0\n",
      "4      6      9.4    NaN\n"
     ]
    }
   ],
   "metadata": {}
  },
  {
   "cell_type": "code",
   "execution_count": 7,
   "source": [
    "df=pd.merge(wine, wine2)\r\n",
    "\r\n",
    "df['sugar'] = df['sugar_PH'].apply(\r\n",
    "    lambda x: x.split('/')[0] if pd.notnull(x) else x)\r\n",
    "\r\n",
    "df['PH'] = df['sugar_PH'].apply(\r\n",
    "    lambda x: x.split('/')[1] if pd.notnull(x) else x)"
   ],
   "outputs": [],
   "metadata": {}
  },
  {
   "cell_type": "code",
   "execution_count": 8,
   "source": [
    "df.info()"
   ],
   "outputs": [
    {
     "output_type": "stream",
     "name": "stdout",
     "text": [
      "<class 'pandas.core.frame.DataFrame'>\n",
      "Int64Index: 6497 entries, 0 to 6496\n",
      "Data columns (total 6 columns):\n",
      " #   Column    Non-Null Count  Dtype  \n",
      "---  ------    --------------  -----  \n",
      " 0   index     6497 non-null   int64  \n",
      " 1   alcohol   6497 non-null   float64\n",
      " 2   class     6493 non-null   float64\n",
      " 3   sugar_PH  6497 non-null   object \n",
      " 4   sugar     6497 non-null   object \n",
      " 5   PH        6497 non-null   object \n",
      "dtypes: float64(2), int64(1), object(3)\n",
      "memory usage: 355.3+ KB\n"
     ]
    }
   ],
   "metadata": {}
  },
  {
   "cell_type": "code",
   "execution_count": 11,
   "source": [
    "# index, sugar_PH 열 제거\r\n",
    "df= df.drop(['index','sugar_PH'],axis=1)\r\n",
    "df.info()"
   ],
   "outputs": [
    {
     "output_type": "stream",
     "name": "stdout",
     "text": [
      "<class 'pandas.core.frame.DataFrame'>\n",
      "Int64Index: 6497 entries, 0 to 6496\n",
      "Data columns (total 4 columns):\n",
      " #   Column   Non-Null Count  Dtype  \n",
      "---  ------   --------------  -----  \n",
      " 0   alcohol  6497 non-null   float64\n",
      " 1   class    6493 non-null   float64\n",
      " 2   sugar    6497 non-null   object \n",
      " 3   PH       6497 non-null   object \n",
      "dtypes: float64(2), object(2)\n",
      "memory usage: 253.8+ KB\n"
     ]
    }
   ],
   "metadata": {}
  },
  {
   "cell_type": "code",
   "execution_count": 12,
   "source": [
    "# object를 float64로 변환\r\n",
    "for x in df.columns:\r\n",
    "    if df[x].dtype=='object':\r\n",
    "        df[x]=df[x].astype('float64')"
   ],
   "outputs": [],
   "metadata": {}
  },
  {
   "cell_type": "code",
   "execution_count": 13,
   "source": [
    "df.info()"
   ],
   "outputs": [
    {
     "output_type": "stream",
     "name": "stdout",
     "text": [
      "<class 'pandas.core.frame.DataFrame'>\n",
      "Int64Index: 6497 entries, 0 to 6496\n",
      "Data columns (total 4 columns):\n",
      " #   Column   Non-Null Count  Dtype  \n",
      "---  ------   --------------  -----  \n",
      " 0   alcohol  6497 non-null   float64\n",
      " 1   class    6493 non-null   float64\n",
      " 2   sugar    6497 non-null   float64\n",
      " 3   PH       6497 non-null   float64\n",
      "dtypes: float64(4)\n",
      "memory usage: 253.8 KB\n"
     ]
    }
   ],
   "metadata": {}
  },
  {
   "cell_type": "code",
   "execution_count": 14,
   "source": [
    "numerics = ['int16', 'int32', 'int64', 'float16', 'float32', 'float64']\r\n",
    "\r\n",
    "#  결측치를 0으로 채우기\r\n",
    "df[df.select_dtypes(include=numerics).columns] =df[df.select_dtypes(include=numerics).columns].fillna(0)\r\n",
    "df.info()"
   ],
   "outputs": [
    {
     "output_type": "stream",
     "name": "stdout",
     "text": [
      "<class 'pandas.core.frame.DataFrame'>\n",
      "Int64Index: 6497 entries, 0 to 6496\n",
      "Data columns (total 4 columns):\n",
      " #   Column   Non-Null Count  Dtype  \n",
      "---  ------   --------------  -----  \n",
      " 0   alcohol  6497 non-null   float64\n",
      " 1   class    6497 non-null   float64\n",
      " 2   sugar    6497 non-null   float64\n",
      " 3   PH       6497 non-null   float64\n",
      "dtypes: float64(4)\n",
      "memory usage: 253.8 KB\n"
     ]
    }
   ],
   "metadata": {}
  },
  {
   "cell_type": "code",
   "execution_count": 15,
   "source": [
    "df.head()"
   ],
   "outputs": [
    {
     "output_type": "execute_result",
     "data": {
      "text/html": [
       "<div>\n",
       "<style scoped>\n",
       "    .dataframe tbody tr th:only-of-type {\n",
       "        vertical-align: middle;\n",
       "    }\n",
       "\n",
       "    .dataframe tbody tr th {\n",
       "        vertical-align: top;\n",
       "    }\n",
       "\n",
       "    .dataframe thead th {\n",
       "        text-align: right;\n",
       "    }\n",
       "</style>\n",
       "<table border=\"1\" class=\"dataframe\">\n",
       "  <thead>\n",
       "    <tr style=\"text-align: right;\">\n",
       "      <th></th>\n",
       "      <th>alcohol</th>\n",
       "      <th>class</th>\n",
       "      <th>sugar</th>\n",
       "      <th>PH</th>\n",
       "    </tr>\n",
       "  </thead>\n",
       "  <tbody>\n",
       "    <tr>\n",
       "      <th>0</th>\n",
       "      <td>9.4</td>\n",
       "      <td>0.0</td>\n",
       "      <td>1.9</td>\n",
       "      <td>3.51</td>\n",
       "    </tr>\n",
       "    <tr>\n",
       "      <th>1</th>\n",
       "      <td>9.8</td>\n",
       "      <td>0.0</td>\n",
       "      <td>2.6</td>\n",
       "      <td>3.20</td>\n",
       "    </tr>\n",
       "    <tr>\n",
       "      <th>2</th>\n",
       "      <td>9.8</td>\n",
       "      <td>0.0</td>\n",
       "      <td>1.9</td>\n",
       "      <td>3.16</td>\n",
       "    </tr>\n",
       "    <tr>\n",
       "      <th>3</th>\n",
       "      <td>9.4</td>\n",
       "      <td>0.0</td>\n",
       "      <td>1.9</td>\n",
       "      <td>3.51</td>\n",
       "    </tr>\n",
       "    <tr>\n",
       "      <th>4</th>\n",
       "      <td>9.4</td>\n",
       "      <td>0.0</td>\n",
       "      <td>1.8</td>\n",
       "      <td>3.51</td>\n",
       "    </tr>\n",
       "  </tbody>\n",
       "</table>\n",
       "</div>"
      ],
      "text/plain": [
       "   alcohol  class  sugar    PH\n",
       "0      9.4    0.0    1.9  3.51\n",
       "1      9.8    0.0    2.6  3.20\n",
       "2      9.8    0.0    1.9  3.16\n",
       "3      9.4    0.0    1.9  3.51\n",
       "4      9.4    0.0    1.8  3.51"
      ]
     },
     "metadata": {},
     "execution_count": 15
    }
   ],
   "metadata": {}
  },
  {
   "cell_type": "code",
   "execution_count": 17,
   "source": [
    "# 변수간의 상관계수 heatmap\r\n",
    "sns.heatmap(df.corr(),annot=True)"
   ],
   "outputs": [
    {
     "output_type": "execute_result",
     "data": {
      "text/plain": [
       "<AxesSubplot:>"
      ]
     },
     "metadata": {},
     "execution_count": 17
    },
    {
     "output_type": "display_data",
     "data": {
      "image/png": "[encoded data removed]",
      "text/plain": [
       "<Figure size 432x288 with 2 Axes>"
      ]
     },
     "metadata": {
      "needs_background": "light"
     }
    }
   ],
   "metadata": {}
  },
  {
   "cell_type": "code",
   "execution_count": 18,
   "source": [
    "f,ax=plt.subplots(1,2,figsize=(15,5))\r\n",
    "sns.histplot(data=df,x='alcohol',y='PH',kde=True,ax=ax[0])\r\n",
    "sns.histplot(data=df,x='alcohol',y='sugar',kde=True,ax=ax[1])\r\n",
    "plt.show()"
   ],
   "outputs": [
    {
     "output_type": "display_data",
     "data": {
      "image/png": "[encoded data removed]",
      "text/plain": [
       "<Figure size 1080x360 with 2 Axes>"
      ]
     },
     "metadata": {
      "needs_background": "light"
     }
    }
   ],
   "metadata": {}
  },
  {
   "cell_type": "code",
   "execution_count": 19,
   "source": [
    "X_data = df[['alcohol','sugar','PH']]\r\n",
    "y_data = df['class']"
   ],
   "outputs": [],
   "metadata": {}
  },
  {
   "cell_type": "code",
   "execution_count": 20,
   "source": [
    "from sklearn.linear_model import LogisticRegression\r\n",
    "from sklearn.model_selection import train_test_split\r\n",
    "from sklearn.metrics import confusion_matrix\r\n",
    "from sklearn.preprocessing import StandardScaler\r\n",
    "from sklearn.metrics import accuracy_score,precision_score,recall_score,roc_auc_score, roc_curve\r\n",
    "\r\n",
    "\r\n",
    "train_x, test_x ,train_y, test_y = train_test_split(X_data, y_data, test_size=0.3,random_state=1)\r\n",
    "print(train_x.shape, test_x.shape, train_y.shape, test_y.shape)\r\n"
   ],
   "outputs": [
    {
     "output_type": "stream",
     "name": "stdout",
     "text": [
      "(4547, 3) (1950, 3) (4547,) (1950,)\n"
     ]
    }
   ],
   "metadata": {}
  },
  {
   "cell_type": "code",
   "execution_count": 21,
   "source": [
    "scaler = StandardScaler()\r\n",
    "scaler.fit(train_x)\r\n",
    "\r\n",
    "train_scaled = scaler.transform(train_x)\r\n",
    "test_scaled = scaler.transform(test_x)"
   ],
   "outputs": [],
   "metadata": {}
  },
  {
   "cell_type": "code",
   "execution_count": 22,
   "source": [
    "lr = LogisticRegression()\r\n",
    "lr.fit(train_scaled,train_y)\r\n",
    "\r\n",
    "print(lr.score(train_scaled, train_y))\r\n",
    "print(lr.score(test_scaled, test_y))"
   ],
   "outputs": [
    {
     "output_type": "stream",
     "name": "stdout",
     "text": [
      "0.7849131295359578\n",
      "0.782051282051282\n"
     ]
    }
   ],
   "metadata": {}
  },
  {
   "cell_type": "code",
   "execution_count": 26,
   "source": [
    "# 정밀도, 재현율\r\n",
    "pred = lr.predict(test_scaled)\r\n",
    "\r\n",
    "print('accurary %2.3f'%accuracy_score(test_y,pred))\r\n",
    "print('recall %2.3f'%recall_score(test_y,pred))\r\n",
    "print('roc %2.3f'%roc_auc_score(test_y,pred))\r\n"
   ],
   "outputs": [
    {
     "output_type": "stream",
     "name": "stdout",
     "text": [
      "accurary 0.782\n",
      "recall 0.909\n",
      "roc 0.641\n"
     ]
    }
   ],
   "metadata": {}
  },
  {
   "cell_type": "code",
   "execution_count": 34,
   "source": [
    "count =0\r\n",
    "for i in(pred-test_y):\r\n",
    "    if i == 0:\r\n",
    "        count+=1\r\n",
    "print(count/len(pred))"
   ],
   "outputs": [
    {
     "output_type": "stream",
     "name": "stdout",
     "text": [
      "0.782051282051282\n"
     ]
    }
   ],
   "metadata": {}
  },
  {
   "cell_type": "code",
   "execution_count": 36,
   "source": [
    "# 새로운 new_X값도 스케일링하고 예측\r\n",
    "# 위에 있는 작업을 모두 피클링 또는 dump해서 객체화시켜서 갖고 있게 됨\r\n",
    "new_XX = np.array([\r\n",
    "    [15,30,1.088]\r\n",
    "])\r\n",
    "\r\n",
    "#scaler.fit(new)\r\n",
    "newX_scaled = scaler.transform(new_XX)\r\n",
    "y_hat = lr.predict(newX_scaled)\r\n",
    "\r\n",
    "print(y_hat[0])\r\n",
    "# class가 1이면 화이트, 0이면 레드와인\r\n",
    "classLabel = ['red_wine','white_wine']\r\n",
    "print(classLabel[int(y_hat[0])])\r\n",
    "\r\n",
    "print(lr.predict_proba(new_XX))"
   ],
   "outputs": [
    {
     "output_type": "stream",
     "name": "stdout",
     "text": [
      "1.0\n",
      "white_wine\n",
      "[[0. 1.]]\n"
     ]
    }
   ],
   "metadata": {}
  },
  {
   "cell_type": "code",
   "execution_count": 37,
   "source": [
    "import statsmodels.api as sm\r\n",
    "\r\n",
    "logitreg = sm.Logit(train_y,train_scaled)\r\n",
    "logitreg_fit = logitreg.fit()\r\n",
    "\r\n",
    "results = logitreg_fit.summary()\r\n",
    "results"
   ],
   "outputs": [
    {
     "output_type": "stream",
     "name": "stdout",
     "text": [
      "Optimization terminated successfully.\n",
      "         Current function value: 0.600723\n",
      "         Iterations 5\n"
     ]
    },
    {
     "output_type": "execute_result",
     "data": {
      "text/html": [
       "<table class=\"simpletable\">\n",
       "<caption>Logit Regression Results</caption>\n",
       "<tr>\n",
       "  <th>Dep. Variable:</th>         <td>class</td>      <th>  No. Observations:  </th>  <td>  4547</td> \n",
       "</tr>\n",
       "<tr>\n",
       "  <th>Model:</th>                 <td>Logit</td>      <th>  Df Residuals:      </th>  <td>  4544</td> \n",
       "</tr>\n",
       "<tr>\n",
       "  <th>Method:</th>                 <td>MLE</td>       <th>  Df Model:          </th>  <td>     2</td> \n",
       "</tr>\n",
       "<tr>\n",
       "  <th>Date:</th>            <td>Thu, 23 Sep 2021</td> <th>  Pseudo R-squ.:     </th> <td>-0.06815</td>\n",
       "</tr>\n",
       "<tr>\n",
       "  <th>Time:</th>                <td>14:31:29</td>     <th>  Log-Likelihood:    </th> <td> -2731.5</td>\n",
       "</tr>\n",
       "<tr>\n",
       "  <th>converged:</th>             <td>True</td>       <th>  LL-Null:           </th> <td> -2557.2</td>\n",
       "</tr>\n",
       "<tr>\n",
       "  <th>Covariance Type:</th>     <td>nonrobust</td>    <th>  LLR p-value:       </th>  <td> 1.000</td> \n",
       "</tr>\n",
       "</table>\n",
       "<table class=\"simpletable\">\n",
       "<tr>\n",
       "   <td></td>     <th>coef</th>     <th>std err</th>      <th>z</th>      <th>P>|z|</th>  <th>[0.025</th>    <th>0.975]</th>  \n",
       "</tr>\n",
       "<tr>\n",
       "  <th>x1</th> <td>    0.4129</td> <td>    0.036</td> <td>   11.585</td> <td> 0.000</td> <td>    0.343</td> <td>    0.483</td>\n",
       "</tr>\n",
       "<tr>\n",
       "  <th>x2</th> <td>    0.7253</td> <td>    0.039</td> <td>   18.625</td> <td> 0.000</td> <td>    0.649</td> <td>    0.802</td>\n",
       "</tr>\n",
       "<tr>\n",
       "  <th>x3</th> <td>   -0.5588</td> <td>    0.036</td> <td>  -15.487</td> <td> 0.000</td> <td>   -0.629</td> <td>   -0.488</td>\n",
       "</tr>\n",
       "</table>"
      ],
      "text/plain": [
       "<class 'statsmodels.iolib.summary.Summary'>\n",
       "\"\"\"\n",
       "                           Logit Regression Results                           \n",
       "==============================================================================\n",
       "Dep. Variable:                  class   No. Observations:                 4547\n",
       "Model:                          Logit   Df Residuals:                     4544\n",
       "Method:                           MLE   Df Model:                            2\n",
       "Date:                Thu, 23 Sep 2021   Pseudo R-squ.:                -0.06815\n",
       "Time:                        14:31:29   Log-Likelihood:                -2731.5\n",
       "converged:                       True   LL-Null:                       -2557.2\n",
       "Covariance Type:            nonrobust   LLR p-value:                     1.000\n",
       "==============================================================================\n",
       "                 coef    std err          z      P>|z|      [0.025      0.975]\n",
       "------------------------------------------------------------------------------\n",
       "x1             0.4129      0.036     11.585      0.000       0.343       0.483\n",
       "x2             0.7253      0.039     18.625      0.000       0.649       0.802\n",
       "x3            -0.5588      0.036    -15.487      0.000      -0.629      -0.488\n",
       "==============================================================================\n",
       "\"\"\""
      ]
     },
     "metadata": {},
     "execution_count": 37
    }
   ],
   "metadata": {}
  },
  {
   "cell_type": "code",
   "execution_count": 38,
   "source": [
    "np.exp(logitreg_fit.params)"
   ],
   "outputs": [
    {
     "output_type": "execute_result",
     "data": {
      "text/plain": [
       "x1    1.511203\n",
       "x2    2.065313\n",
       "x3    0.571909\n",
       "dtype: float64"
      ]
     },
     "metadata": {},
     "execution_count": 38
    }
   ],
   "metadata": {}
  },
  {
   "cell_type": "markdown",
   "source": [
    "## 분류리포트와 혼돈행렬출력"
   ],
   "metadata": {}
  },
  {
   "cell_type": "code",
   "execution_count": 51,
   "source": [
    "from sklearn.linear_model import LogisticRegression\r\n",
    "\r\n",
    "lr = LogisticRegression()\r\n",
    "lr.fit(train_scaled, train_y)"
   ],
   "outputs": [
    {
     "output_type": "execute_result",
     "data": {
      "text/plain": [
       "LogisticRegression()"
      ]
     },
     "metadata": {},
     "execution_count": 51
    }
   ],
   "metadata": {}
  },
  {
   "cell_type": "code",
   "execution_count": 52,
   "source": [
    "from sklearn.metrics import classification_report\r\n",
    "from sklearn.metrics import accuracy_score, precision_score, recall_score, confusion_matrix\r\n",
    "\r\n",
    "y_hat = lr.predict(test_scaled)\r\n",
    "print(classification_report(test_y, y_hat,target_names=['red','white']))"
   ],
   "outputs": [
    {
     "output_type": "stream",
     "name": "stdout",
     "text": [
      "              precision    recall  f1-score   support\n",
      "\n",
      "         red       0.56      0.37      0.45       462\n",
      "       white       0.82      0.91      0.86      1488\n",
      "\n",
      "    accuracy                           0.78      1950\n",
      "   macro avg       0.69      0.64      0.66      1950\n",
      "weighted avg       0.76      0.78      0.77      1950\n",
      "\n"
     ]
    }
   ],
   "metadata": {}
  },
  {
   "cell_type": "code",
   "execution_count": 53,
   "source": [
    "from sklearn.metrics import confusion_matrix\r\n",
    "cm=confusion_matrix(test_y, lr.predict(test_scaled))\r\n",
    "cm"
   ],
   "outputs": [
    {
     "output_type": "execute_result",
     "data": {
      "text/plain": [
       "array([[ 172,  290],\n",
       "       [ 135, 1353]], dtype=int64)"
      ]
     },
     "metadata": {},
     "execution_count": 53
    }
   ],
   "metadata": {}
  },
  {
   "cell_type": "code",
   "execution_count": 54,
   "source": [
    "import warnings\r\n",
    "warnings.filterwarnings(action='ignore')"
   ],
   "outputs": [],
   "metadata": {}
  },
  {
   "cell_type": "code",
   "execution_count": 55,
   "source": [
    "import matplotlib.pyplot as plt\r\n",
    "pd.DataFrame(cm, index=['실제값(N)','실제값(P)'],columns=['예측값(N)','예측값(P)'])\r\n",
    "\r\n",
    "sns.heatmap(cm, annot = True, fmt = 'd',cmap = 'Reds')\r\n",
    "plt.xlabel('예측값')\r\n",
    "plt.ylabel('실제값')\r\n",
    "plt.xticks([0.5,1.5],['0(N)', '1(P)'])\r\n",
    "plt.yticks([0.5,1.5],['0(N)', '1(P)'])"
   ],
   "outputs": [
    {
     "output_type": "execute_result",
     "data": {
      "text/plain": [
       "([<matplotlib.axis.YTick at 0x26776f8c1f0>,\n",
       "  <matplotlib.axis.YTick at 0x26776fdd7f0>],\n",
       " [Text(0, 0.5, '0(N)'), Text(0, 1.5, '1(P)')])"
      ]
     },
     "metadata": {},
     "execution_count": 55
    },
    {
     "output_type": "display_data",
     "data": {
      "image/png": "[encoded data removed]",
      "text/plain": [
       "<Figure size 432x288 with 2 Axes>"
      ]
     },
     "metadata": {
      "needs_background": "light"
     }
    }
   ],
   "metadata": {}
  },
  {
   "cell_type": "code",
   "execution_count": 56,
   "source": [
    "pd.DataFrame(cm, index=['실제값(N:0)','실제값(P:1)'], columns=['예측값(N:0)','예측값(P:1)'])"
   ],
   "outputs": [
    {
     "output_type": "execute_result",
     "data": {
      "text/html": [
       "<div>\n",
       "<style scoped>\n",
       "    .dataframe tbody tr th:only-of-type {\n",
       "        vertical-align: middle;\n",
       "    }\n",
       "\n",
       "    .dataframe tbody tr th {\n",
       "        vertical-align: top;\n",
       "    }\n",
       "\n",
       "    .dataframe thead th {\n",
       "        text-align: right;\n",
       "    }\n",
       "</style>\n",
       "<table border=\"1\" class=\"dataframe\">\n",
       "  <thead>\n",
       "    <tr style=\"text-align: right;\">\n",
       "      <th></th>\n",
       "      <th>예측값(N:0)</th>\n",
       "      <th>예측값(P:1)</th>\n",
       "    </tr>\n",
       "  </thead>\n",
       "  <tbody>\n",
       "    <tr>\n",
       "      <th>실제값(N:0)</th>\n",
       "      <td>172</td>\n",
       "      <td>290</td>\n",
       "    </tr>\n",
       "    <tr>\n",
       "      <th>실제값(P:1)</th>\n",
       "      <td>135</td>\n",
       "      <td>1353</td>\n",
       "    </tr>\n",
       "  </tbody>\n",
       "</table>\n",
       "</div>"
      ],
      "text/plain": [
       "          예측값(N:0)  예측값(P:1)\n",
       "실제값(N:0)       172       290\n",
       "실제값(P:1)       135      1353"
      ]
     },
     "metadata": {},
     "execution_count": 56
    }
   ],
   "metadata": {}
  },
  {
   "cell_type": "code",
   "execution_count": 57,
   "source": [
    "tmp = []\r\n",
    "pred = lr.predict(test_scaled)\r\n",
    "\r\n",
    "for i, j in zip(pred,test_y):\r\n",
    "    tmp.append(str(int(i))+str(int(j)))\r\n",
    "\r\n",
    "tmpdf = pd.DataFrame({'y': test_y, 'y_hat': pred, '실제값/예측값':tmp})\r\n",
    "tmpdf.groupby(['실제값/예측값']).count()"
   ],
   "outputs": [
    {
     "output_type": "execute_result",
     "data": {
      "text/html": [
       "<div>\n",
       "<style scoped>\n",
       "    .dataframe tbody tr th:only-of-type {\n",
       "        vertical-align: middle;\n",
       "    }\n",
       "\n",
       "    .dataframe tbody tr th {\n",
       "        vertical-align: top;\n",
       "    }\n",
       "\n",
       "    .dataframe thead th {\n",
       "        text-align: right;\n",
       "    }\n",
       "</style>\n",
       "<table border=\"1\" class=\"dataframe\">\n",
       "  <thead>\n",
       "    <tr style=\"text-align: right;\">\n",
       "      <th></th>\n",
       "      <th>y</th>\n",
       "      <th>y_hat</th>\n",
       "    </tr>\n",
       "    <tr>\n",
       "      <th>실제값/예측값</th>\n",
       "      <th></th>\n",
       "      <th></th>\n",
       "    </tr>\n",
       "  </thead>\n",
       "  <tbody>\n",
       "    <tr>\n",
       "      <th>00</th>\n",
       "      <td>172</td>\n",
       "      <td>172</td>\n",
       "    </tr>\n",
       "    <tr>\n",
       "      <th>01</th>\n",
       "      <td>135</td>\n",
       "      <td>135</td>\n",
       "    </tr>\n",
       "    <tr>\n",
       "      <th>10</th>\n",
       "      <td>290</td>\n",
       "      <td>290</td>\n",
       "    </tr>\n",
       "    <tr>\n",
       "      <th>11</th>\n",
       "      <td>1353</td>\n",
       "      <td>1353</td>\n",
       "    </tr>\n",
       "  </tbody>\n",
       "</table>\n",
       "</div>"
      ],
      "text/plain": [
       "            y  y_hat\n",
       "실제값/예측값             \n",
       "00        172    172\n",
       "01        135    135\n",
       "10        290    290\n",
       "11       1353   1353"
      ]
     },
     "metadata": {},
     "execution_count": 57
    }
   ],
   "metadata": {}
  },
  {
   "cell_type": "code",
   "execution_count": 58,
   "source": [
    "## 재현율을 높여봅니다.\r\n",
    "# predict_proba 분류결정 예측 확률을 반환\r\n",
    "\r\n",
    "pred_proba = lr.predict_proba(test_scaled)\r\n",
    "pred  = lr.predict(test_scaled)\r\n",
    "print('pred_proba()결과 Shape : {0}'.format(pred_proba.shape))\r\n",
    "print('pred_proba array에서 앞 3개만 샘플로 추출 \\n:', pred_proba[:3])\r\n",
    "\r\n",
    "# 예측 확률 array 와 예측 결과값 array 를 concatenate 하여 예측 확률과 결과값을 한눈에 확인\r\n",
    "pred_proba_result = np.concatenate([pred_proba , pred.reshape(-1,1)],axis=1)\r\n",
    "print('두개의 class 중에서 더 큰 확률을 클래스 값으로 예측 \\n',pred_proba_result[:3])\r\n"
   ],
   "outputs": [
    {
     "output_type": "stream",
     "name": "stdout",
     "text": [
      "pred_proba()결과 Shape : (1950, 2)\n",
      "pred_proba array에서 앞 3개만 샘플로 추출 \n",
      ": [[0.01762421 0.98237579]\n",
      " [0.00823836 0.99176164]\n",
      " [0.00322809 0.99677191]]\n",
      "두개의 class 중에서 더 큰 확률을 클래스 값으로 예측 \n",
      " [[0.01762421 0.98237579 1.        ]\n",
      " [0.00823836 0.99176164 1.        ]\n",
      " [0.00322809 0.99677191 1.        ]]\n"
     ]
    }
   ],
   "metadata": {}
  },
  {
   "cell_type": "code",
   "execution_count": 62,
   "source": [
    "# 정밀도 재현율 계산 함수\r\n",
    "def get_clf_eval(y_test , pred):\r\n",
    "    confusion = confusion_matrix(y_test, pred)\r\n",
    "    precision = precision_score(y_test , pred)\r\n",
    "    recall = recall_score(y_test , pred)\r\n",
    "    print('오차 행렬')\r\n",
    "    print(confusion)\r\n",
    "    print(' 정밀도: {0:.4f}, 재현율: {1:.4f}'.format(precision ,recall))\r\n",
    "    "
   ],
   "outputs": [],
   "metadata": {}
  },
  {
   "cell_type": "code",
   "execution_count": 63,
   "source": [
    "from sklearn.preprocessing import Binarizer\r\n",
    "\r\n",
    "#Binarizer의 threshold 설정값. 분류 결정 임곗값임.  \r\n",
    "custom_threshold_list = [0.3,0.5,0.8]\r\n",
    "\r\n",
    "for custom_threshold in custom_threshold_list:\r\n",
    "    print('------ custom_threshold_list----- %2.1f' % custom_threshold)\r\n",
    "    # predict_proba( ) 반환값의 두번째 컬럼 , 즉 Positive 클래스 컬럼 하나만 추출하여 Binarizer를 적용\r\n",
    "    pred_proba = lr.predict_proba(test_scaled)\r\n",
    "    pred  = lr.predict(test_scaled)\r\n",
    "\r\n",
    "    pred_proba_1 = pred_proba[:,1].reshape(-1,1)\r\n",
    "\r\n",
    "    binarizer = Binarizer(threshold=custom_threshold).fit(pred_proba_1) \r\n",
    "    custom_predict = binarizer.transform(pred_proba_1)\r\n",
    "    custom_predict    \r\n",
    "\r\n",
    "    get_clf_eval(test_y,custom_predict)"
   ],
   "outputs": [
    {
     "output_type": "stream",
     "name": "stdout",
     "text": [
      "------ custom_threshold_list----- 0.3\n",
      "오차 행렬\n",
      "[[  38  424]\n",
      " [  40 1448]]\n",
      " 정밀도: 0.7735, 재현율: 0.9731\n",
      "------ custom_threshold_list----- 0.5\n",
      "오차 행렬\n",
      "[[ 172  290]\n",
      " [ 135 1353]]\n",
      " 정밀도: 0.8235, 재현율: 0.9093\n",
      "------ custom_threshold_list----- 0.8\n",
      "오차 행렬\n",
      "[[412  50]\n",
      " [560 928]]\n",
      " 정밀도: 0.9489, 재현율: 0.6237\n"
     ]
    }
   ],
   "metadata": {}
  },
  {
   "cell_type": "markdown",
   "source": [
    "### 랜덤포레스트"
   ],
   "metadata": {}
  },
  {
   "cell_type": "code",
   "execution_count": 87,
   "source": [
    "import time\r\n",
    "from sklearn.ensemble import RandomForestRegressor\r\n",
    "from sklearn.model_selection import GridSearchCV\r\n",
    "start = time.time()\r\n",
    "\r\n",
    "RF_params = {\r\n",
    "    'n_estimators': [50,100,150,200],\r\n",
    "    'max_features': ['auto', 'sqrt'],\r\n",
    "    'max_depth' : [1,2,3,5],\r\n",
    "    'min_samples_leaf': [1, 2, 4],\r\n",
    "    'min_samples_split': [2, 3, 5, 10]}\r\n",
    "\r\n",
    "wine_RF_models = GridSearchCV(\r\n",
    "        RandomForestRegressor(random_state=42), param_grid=RF_params, n_jobs=-1\r\n",
    "        ).fit(train_scaled,train_y).best_estimator_\r\n",
    "print(f\"걸린시간 : {np.round(time.time() - start,3)}초\") # 현재시간 – 시작시간(단위 초)"
   ],
   "outputs": [
    {
     "output_type": "stream",
     "name": "stdout",
     "text": [
      "걸린시간 : 100.814초\n"
     ]
    }
   ],
   "metadata": {}
  },
  {
   "cell_type": "code",
   "execution_count": null,
   "source": [
    "print(classification_report(test_y, pred_RF,target_names=['red','white']))"
   ],
   "outputs": [],
   "metadata": {}
  },
  {
   "cell_type": "markdown",
   "source": [
    "## kaggle api 접속 및 데이터 가져오기"
   ],
   "metadata": {}
  },
  {
   "cell_type": "code",
   "execution_count": 75,
   "source": [
    "# 캐글 데이터셋\r\n",
    "!pip install kaggle --upgrade\r\n",
    "!pip install kaggle"
   ],
   "outputs": [
    {
     "output_type": "stream",
     "name": "stdout",
     "text": [
      "Collecting kaggle\n",
      "  Downloading kaggle-1.5.12.tar.gz (58 kB)\n",
      "Requirement already satisfied: six>=1.10 in c:\\users\\igksj\\anaconda3\\lib\\site-packages (from kaggle) (1.15.0)\n",
      "Requirement already satisfied: certifi in c:\\users\\igksj\\anaconda3\\lib\\site-packages (from kaggle) (2021.5.30)\n",
      "Requirement already satisfied: python-dateutil in c:\\users\\igksj\\anaconda3\\lib\\site-packages (from kaggle) (2.8.2)\n",
      "Requirement already satisfied: requests in c:\\users\\igksj\\anaconda3\\lib\\site-packages (from kaggle) (2.25.1)\n",
      "Requirement already satisfied: tqdm in c:\\users\\igksj\\anaconda3\\lib\\site-packages (from kaggle) (4.61.2)\n",
      "Collecting python-slugify\n",
      "  Downloading python_slugify-5.0.2-py2.py3-none-any.whl (6.7 kB)\n",
      "Requirement already satisfied: urllib3 in c:\\users\\igksj\\anaconda3\\lib\\site-packages (from kaggle) (1.26.6)\n",
      "Collecting text-unidecode>=1.3\n",
      "  Downloading text_unidecode-1.3-py2.py3-none-any.whl (78 kB)\n",
      "Requirement already satisfied: chardet<5,>=3.0.2 in c:\\users\\igksj\\anaconda3\\lib\\site-packages (from requests->kaggle) (4.0.0)\n",
      "Requirement already satisfied: idna<3,>=2.5 in c:\\users\\igksj\\anaconda3\\lib\\site-packages (from requests->kaggle) (2.10)\n",
      "Requirement already satisfied: colorama in c:\\users\\igksj\\anaconda3\\lib\\site-packages (from tqdm->kaggle) (0.4.4)\n",
      "Building wheels for collected packages: kaggle\n",
      "  Building wheel for kaggle (setup.py): started\n",
      "  Building wheel for kaggle (setup.py): finished with status 'done'\n",
      "  Created wheel for kaggle: filename=kaggle-1.5.12-py3-none-any.whl size=73053 sha256=0082857feb1c241fa599c8583ecc12318c659ae299b9d97207f240c85e083333\n",
      "  Stored in directory: c:\\users\\igksj\\appdata\\local\\pip\\cache\\wheels\\29\\da\\11\\144cc25aebdaeb4931b231e25fd34b394e6a5725cbb2f50106\n",
      "Successfully built kaggle\n",
      "Installing collected packages: text-unidecode, python-slugify, kaggle\n",
      "Successfully installed kaggle-1.5.12 python-slugify-5.0.2 text-unidecode-1.3\n",
      "Requirement already satisfied: kaggle in c:\\users\\igksj\\anaconda3\\lib\\site-packages (1.5.12)\n",
      "Requirement already satisfied: certifi in c:\\users\\igksj\\anaconda3\\lib\\site-packages (from kaggle) (2021.5.30)\n",
      "Requirement already satisfied: requests in c:\\users\\igksj\\anaconda3\\lib\\site-packages (from kaggle) (2.25.1)\n",
      "Requirement already satisfied: python-dateutil in c:\\users\\igksj\\anaconda3\\lib\\site-packages (from kaggle) (2.8.2)\n",
      "Requirement already satisfied: python-slugify in c:\\users\\igksj\\anaconda3\\lib\\site-packages (from kaggle) (5.0.2)\n",
      "Requirement already satisfied: urllib3 in c:\\users\\igksj\\anaconda3\\lib\\site-packages (from kaggle) (1.26.6)\n",
      "Requirement already satisfied: six>=1.10 in c:\\users\\igksj\\anaconda3\\lib\\site-packages (from kaggle) (1.15.0)\n",
      "Requirement already satisfied: tqdm in c:\\users\\igksj\\anaconda3\\lib\\site-packages (from kaggle) (4.61.2)\n",
      "Requirement already satisfied: text-unidecode>=1.3 in c:\\users\\igksj\\anaconda3\\lib\\site-packages (from python-slugify->kaggle) (1.3)\n",
      "Requirement already satisfied: chardet<5,>=3.0.2 in c:\\users\\igksj\\anaconda3\\lib\\site-packages (from requests->kaggle) (4.0.0)\n",
      "Requirement already satisfied: idna<3,>=2.5 in c:\\users\\igksj\\anaconda3\\lib\\site-packages (from requests->kaggle) (2.10)\n",
      "Requirement already satisfied: colorama in c:\\users\\igksj\\anaconda3\\lib\\site-packages (from tqdm->kaggle) (0.4.4)\n"
     ]
    }
   ],
   "metadata": {}
  },
  {
   "cell_type": "code",
   "execution_count": 76,
   "source": [
    "import os\r\n",
    "# os.environ을 이용하여 Kaggle API Username, Key 세팅하기\r\n",
    "# kaggle.json 파일 열어서 user명과 key값 확인\r\n",
    "os.environ['KAGGLE_USERNAME'] = 'kimsunijin'\r\n",
    "os.environ['KAGGLE_KEY'] = 'e07199c8870d405e21c6ae35d3ad8db1'"
   ],
   "outputs": [],
   "metadata": {}
  },
  {
   "cell_type": "code",
   "execution_count": 77,
   "source": [
    "!kaggle datasets download uciml/red-wine-quality-cortez-et-al-2009"
   ],
   "outputs": [
    {
     "output_type": "stream",
     "name": "stdout",
     "text": [
      "Downloading red-wine-quality-cortez-et-al-2009.zip to c:\\Workspace\\분석데이터활용\\pandasData분석\n",
      "\n"
     ]
    },
    {
     "output_type": "stream",
     "name": "stderr",
     "text": [
      "\n",
      "  0%|          | 0.00/25.6k [00:00<?, ?B/s]\n",
      "100%|██████████| 25.6k/25.6k [00:00<00:00, 307kB/s]\n"
     ]
    }
   ],
   "metadata": {}
  },
  {
   "cell_type": "code",
   "execution_count": 80,
   "source": [
    "import os\r\n",
    " \r\n",
    "def createFolder(directory):\r\n",
    "    try:\r\n",
    "        if not os.path.exists(directory):\r\n",
    "            os.makedirs(directory)\r\n",
    "    except OSError:\r\n",
    "        print ('Error: Creating directory. ' +  directory)\r\n",
    " \r\n",
    "createFolder('C:/Workspace/분석데이터활용/pandasData분석/data/zip')"
   ],
   "outputs": [],
   "metadata": {}
  },
  {
   "cell_type": "code",
   "execution_count": 81,
   "source": [
    "import zipfile\r\n",
    "fantasy_zip = zipfile.ZipFile('red-wine-quality-cortez-et-al-2009.zip')\r\n",
    "fileName=fantasy_zip.namelist()[0]\r\n",
    "fantasy_zip.extract(fileName,'C:/Workspace/분석데이터활용/pandasData분석/data/zip')\r\n",
    "\r\n",
    "#fantasy_zip.close()"
   ],
   "outputs": [
    {
     "output_type": "execute_result",
     "data": {
      "text/plain": [
       "'C:\\\\Workspace\\\\분석데이터활용\\\\pandasData분석\\\\data\\\\zip\\\\winequality-red.csv'"
      ]
     },
     "metadata": {},
     "execution_count": 81
    }
   ],
   "metadata": {}
  },
  {
   "cell_type": "code",
   "execution_count": 82,
   "source": [
    "import pandas as pd\r\n",
    "from glob import glob\r\n",
    "df = pd.read_csv(glob('C:/Workspace/분석데이터활용/pandasData분석/data/zip/*.csv')[0])\r\n",
    "df"
   ],
   "outputs": [
    {
     "output_type": "execute_result",
     "data": {
      "text/html": [
       "<div>\n",
       "<style scoped>\n",
       "    .dataframe tbody tr th:only-of-type {\n",
       "        vertical-align: middle;\n",
       "    }\n",
       "\n",
       "    .dataframe tbody tr th {\n",
       "        vertical-align: top;\n",
       "    }\n",
       "\n",
       "    .dataframe thead th {\n",
       "        text-align: right;\n",
       "    }\n",
       "</style>\n",
       "<table border=\"1\" class=\"dataframe\">\n",
       "  <thead>\n",
       "    <tr style=\"text-align: right;\">\n",
       "      <th></th>\n",
       "      <th>fixed acidity</th>\n",
       "      <th>volatile acidity</th>\n",
       "      <th>citric acid</th>\n",
       "      <th>residual sugar</th>\n",
       "      <th>chlorides</th>\n",
       "      <th>free sulfur dioxide</th>\n",
       "      <th>total sulfur dioxide</th>\n",
       "      <th>density</th>\n",
       "      <th>pH</th>\n",
       "      <th>sulphates</th>\n",
       "      <th>alcohol</th>\n",
       "      <th>quality</th>\n",
       "    </tr>\n",
       "  </thead>\n",
       "  <tbody>\n",
       "    <tr>\n",
       "      <th>0</th>\n",
       "      <td>7.4</td>\n",
       "      <td>0.700</td>\n",
       "      <td>0.00</td>\n",
       "      <td>1.9</td>\n",
       "      <td>0.076</td>\n",
       "      <td>11.0</td>\n",
       "      <td>34.0</td>\n",
       "      <td>0.99780</td>\n",
       "      <td>3.51</td>\n",
       "      <td>0.56</td>\n",
       "      <td>9.4</td>\n",
       "      <td>5</td>\n",
       "    </tr>\n",
       "    <tr>\n",
       "      <th>1</th>\n",
       "      <td>7.8</td>\n",
       "      <td>0.880</td>\n",
       "      <td>0.00</td>\n",
       "      <td>2.6</td>\n",
       "      <td>0.098</td>\n",
       "      <td>25.0</td>\n",
       "      <td>67.0</td>\n",
       "      <td>0.99680</td>\n",
       "      <td>3.20</td>\n",
       "      <td>0.68</td>\n",
       "      <td>9.8</td>\n",
       "      <td>5</td>\n",
       "    </tr>\n",
       "    <tr>\n",
       "      <th>2</th>\n",
       "      <td>7.8</td>\n",
       "      <td>0.760</td>\n",
       "      <td>0.04</td>\n",
       "      <td>2.3</td>\n",
       "      <td>0.092</td>\n",
       "      <td>15.0</td>\n",
       "      <td>54.0</td>\n",
       "      <td>0.99700</td>\n",
       "      <td>3.26</td>\n",
       "      <td>0.65</td>\n",
       "      <td>9.8</td>\n",
       "      <td>5</td>\n",
       "    </tr>\n",
       "    <tr>\n",
       "      <th>3</th>\n",
       "      <td>11.2</td>\n",
       "      <td>0.280</td>\n",
       "      <td>0.56</td>\n",
       "      <td>1.9</td>\n",
       "      <td>0.075</td>\n",
       "      <td>17.0</td>\n",
       "      <td>60.0</td>\n",
       "      <td>0.99800</td>\n",
       "      <td>3.16</td>\n",
       "      <td>0.58</td>\n",
       "      <td>9.8</td>\n",
       "      <td>6</td>\n",
       "    </tr>\n",
       "    <tr>\n",
       "      <th>4</th>\n",
       "      <td>7.4</td>\n",
       "      <td>0.700</td>\n",
       "      <td>0.00</td>\n",
       "      <td>1.9</td>\n",
       "      <td>0.076</td>\n",
       "      <td>11.0</td>\n",
       "      <td>34.0</td>\n",
       "      <td>0.99780</td>\n",
       "      <td>3.51</td>\n",
       "      <td>0.56</td>\n",
       "      <td>9.4</td>\n",
       "      <td>5</td>\n",
       "    </tr>\n",
       "    <tr>\n",
       "      <th>...</th>\n",
       "      <td>...</td>\n",
       "      <td>...</td>\n",
       "      <td>...</td>\n",
       "      <td>...</td>\n",
       "      <td>...</td>\n",
       "      <td>...</td>\n",
       "      <td>...</td>\n",
       "      <td>...</td>\n",
       "      <td>...</td>\n",
       "      <td>...</td>\n",
       "      <td>...</td>\n",
       "      <td>...</td>\n",
       "    </tr>\n",
       "    <tr>\n",
       "      <th>1594</th>\n",
       "      <td>6.2</td>\n",
       "      <td>0.600</td>\n",
       "      <td>0.08</td>\n",
       "      <td>2.0</td>\n",
       "      <td>0.090</td>\n",
       "      <td>32.0</td>\n",
       "      <td>44.0</td>\n",
       "      <td>0.99490</td>\n",
       "      <td>3.45</td>\n",
       "      <td>0.58</td>\n",
       "      <td>10.5</td>\n",
       "      <td>5</td>\n",
       "    </tr>\n",
       "    <tr>\n",
       "      <th>1595</th>\n",
       "      <td>5.9</td>\n",
       "      <td>0.550</td>\n",
       "      <td>0.10</td>\n",
       "      <td>2.2</td>\n",
       "      <td>0.062</td>\n",
       "      <td>39.0</td>\n",
       "      <td>51.0</td>\n",
       "      <td>0.99512</td>\n",
       "      <td>3.52</td>\n",
       "      <td>0.76</td>\n",
       "      <td>11.2</td>\n",
       "      <td>6</td>\n",
       "    </tr>\n",
       "    <tr>\n",
       "      <th>1596</th>\n",
       "      <td>6.3</td>\n",
       "      <td>0.510</td>\n",
       "      <td>0.13</td>\n",
       "      <td>2.3</td>\n",
       "      <td>0.076</td>\n",
       "      <td>29.0</td>\n",
       "      <td>40.0</td>\n",
       "      <td>0.99574</td>\n",
       "      <td>3.42</td>\n",
       "      <td>0.75</td>\n",
       "      <td>11.0</td>\n",
       "      <td>6</td>\n",
       "    </tr>\n",
       "    <tr>\n",
       "      <th>1597</th>\n",
       "      <td>5.9</td>\n",
       "      <td>0.645</td>\n",
       "      <td>0.12</td>\n",
       "      <td>2.0</td>\n",
       "      <td>0.075</td>\n",
       "      <td>32.0</td>\n",
       "      <td>44.0</td>\n",
       "      <td>0.99547</td>\n",
       "      <td>3.57</td>\n",
       "      <td>0.71</td>\n",
       "      <td>10.2</td>\n",
       "      <td>5</td>\n",
       "    </tr>\n",
       "    <tr>\n",
       "      <th>1598</th>\n",
       "      <td>6.0</td>\n",
       "      <td>0.310</td>\n",
       "      <td>0.47</td>\n",
       "      <td>3.6</td>\n",
       "      <td>0.067</td>\n",
       "      <td>18.0</td>\n",
       "      <td>42.0</td>\n",
       "      <td>0.99549</td>\n",
       "      <td>3.39</td>\n",
       "      <td>0.66</td>\n",
       "      <td>11.0</td>\n",
       "      <td>6</td>\n",
       "    </tr>\n",
       "  </tbody>\n",
       "</table>\n",
       "<p>1599 rows × 12 columns</p>\n",
       "</div>"
      ],
      "text/plain": [
       "      fixed acidity  volatile acidity  citric acid  residual sugar  chlorides  \\\n",
       "0               7.4             0.700         0.00             1.9      0.076   \n",
       "1               7.8             0.880         0.00             2.6      0.098   \n",
       "2               7.8             0.760         0.04             2.3      0.092   \n",
       "3              11.2             0.280         0.56             1.9      0.075   \n",
       "4               7.4             0.700         0.00             1.9      0.076   \n",
       "...             ...               ...          ...             ...        ...   \n",
       "1594            6.2             0.600         0.08             2.0      0.090   \n",
       "1595            5.9             0.550         0.10             2.2      0.062   \n",
       "1596            6.3             0.510         0.13             2.3      0.076   \n",
       "1597            5.9             0.645         0.12             2.0      0.075   \n",
       "1598            6.0             0.310         0.47             3.6      0.067   \n",
       "\n",
       "      free sulfur dioxide  total sulfur dioxide  density    pH  sulphates  \\\n",
       "0                    11.0                  34.0  0.99780  3.51       0.56   \n",
       "1                    25.0                  67.0  0.99680  3.20       0.68   \n",
       "2                    15.0                  54.0  0.99700  3.26       0.65   \n",
       "3                    17.0                  60.0  0.99800  3.16       0.58   \n",
       "4                    11.0                  34.0  0.99780  3.51       0.56   \n",
       "...                   ...                   ...      ...   ...        ...   \n",
       "1594                 32.0                  44.0  0.99490  3.45       0.58   \n",
       "1595                 39.0                  51.0  0.99512  3.52       0.76   \n",
       "1596                 29.0                  40.0  0.99574  3.42       0.75   \n",
       "1597                 32.0                  44.0  0.99547  3.57       0.71   \n",
       "1598                 18.0                  42.0  0.99549  3.39       0.66   \n",
       "\n",
       "      alcohol  quality  \n",
       "0         9.4        5  \n",
       "1         9.8        5  \n",
       "2         9.8        5  \n",
       "3         9.8        6  \n",
       "4         9.4        5  \n",
       "...       ...      ...  \n",
       "1594     10.5        5  \n",
       "1595     11.2        6  \n",
       "1596     11.0        6  \n",
       "1597     10.2        5  \n",
       "1598     11.0        6  \n",
       "\n",
       "[1599 rows x 12 columns]"
      ]
     },
     "metadata": {},
     "execution_count": 82
    }
   ],
   "metadata": {}
  }
 ],
 "metadata": {
  "orig_nbformat": 4,
  "language_info": {
   "name": "python",
   "version": "3.8.10",
   "mimetype": "text/x-python",
   "codemirror_mode": {
    "name": "ipython",
    "version": 3
   },
   "pygments_lexer": "ipython3",
   "nbconvert_exporter": "python",
   "file_extension": ".py"
  },
  "kernelspec": {
   "name": "python3",
   "display_name": "Python 3.8.10 64-bit ('base': conda)"
  },
  "interpreter": {
   "hash": "acbbfebbbdf654efa85aa18169a14b54796a806b8c18a3c243660030e08aa454"
  }
 },
 "nbformat": 4,
 "nbformat_minor": 2
}