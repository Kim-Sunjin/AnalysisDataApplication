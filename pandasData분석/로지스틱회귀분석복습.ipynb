{
 "cells": [
  {
   "cell_type": "code",
   "execution_count": 9,
   "source": [
    "import numpy as np\r\n",
    "from sklearn.model_selection import train_test_split\r\n",
    "from sklearn.linear_model import LogisticRegression"
   ],
   "outputs": [],
   "metadata": {}
  },
  {
   "cell_type": "code",
   "execution_count": 10,
   "source": [
    "x_data = np.array([\r\n",
    "    [2, 1],\r\n",
    "    [3, 2],\r\n",
    "    [3, 4],\r\n",
    "    [5, 5],\r\n",
    "    [7, 5],\r\n",
    "    [2, 5],\r\n",
    "    [8, 9],\r\n",
    "    [9, 10],\r\n",
    "    [6, 12],\r\n",
    "    [9, 2],\r\n",
    "    [6, 10],\r\n",
    "    [2, 4]\r\n",
    "])\r\n",
    "y_data = np.array([2, 2, 2, 1, 1, 2, 0, 0, 0, 1, 0, 2])"
   ],
   "outputs": [],
   "metadata": {}
  },
  {
   "cell_type": "code",
   "execution_count": 11,
   "source": [
    "labels = ['A', 'B', 'C']"
   ],
   "outputs": [],
   "metadata": {}
  },
  {
   "cell_type": "code",
   "execution_count": 12,
   "source": [
    "X_train, X_test, y_train, y_test = train_test_split(x_data, y_data, test_size=0.5, random_state=777, stratify=y_data)"
   ],
   "outputs": [],
   "metadata": {}
  },
  {
   "cell_type": "code",
   "execution_count": 13,
   "source": [
    "model_log = LogisticRegression()\r\n",
    "model_log.fit(X_train,y_train)\r\n",
    "y_predict = model_log.predict(X_test)\r\n",
    "label = labels[y_predict[0]]\r\n",
    "y_predict = model_log.predict_proba(X_test)\r\n",
    "confidence = y_predict[0][y_predict[0].argmax()]\r\n",
    "print(label,confidence)"
   ],
   "outputs": [
    {
     "output_type": "stream",
     "name": "stdout",
     "text": [
      "C 0.8767275859374462\n"
     ]
    }
   ],
   "metadata": {}
  },
  {
   "cell_type": "code",
   "execution_count": 14,
   "source": [
    "model_log.coef_"
   ],
   "outputs": [
    {
     "output_type": "execute_result",
     "data": {
      "text/plain": [
       "array([[ 0.40470985,  0.65941355],\n",
       "       [ 0.28401052, -0.24001808],\n",
       "       [-0.68872037, -0.41939547]])"
      ]
     },
     "metadata": {},
     "execution_count": 14
    }
   ],
   "metadata": {}
  },
  {
   "cell_type": "code",
   "execution_count": 15,
   "source": [
    "print(model_log.intercept_)"
   ],
   "outputs": [
    {
     "output_type": "stream",
     "name": "stdout",
     "text": [
      "[-6.20825671  0.64509621  5.5631605 ]\n"
     ]
    }
   ],
   "metadata": {}
  },
  {
   "cell_type": "code",
   "execution_count": 16,
   "source": [
    "import matplotlib.pylab as plt\r\n",
    "import matplotlib as mpl\r\n",
    "mpl.rc('font', family='Malgun Gothic')"
   ],
   "outputs": [],
   "metadata": {}
  },
  {
   "cell_type": "code",
   "execution_count": 18,
   "source": [
    "plt.scatter(np.array(X_train)[:,0], np.array(X_train)[:,1], c=y_train)\r\n"
   ],
   "outputs": [
    {
     "output_type": "execute_result",
     "data": {
      "text/plain": [
       "<matplotlib.collections.PathCollection at 0x1dbf4e327c0>"
      ]
     },
     "metadata": {},
     "execution_count": 18
    },
    {
     "output_type": "display_data",
     "data": {
      "image/png": "[encoded data removed]",
      "text/plain": [
       "<Figure size 432x288 with 1 Axes>"
      ]
     },
     "metadata": {
      "needs_background": "light"
     }
    }
   ],
   "metadata": {}
  },
  {
   "cell_type": "markdown",
   "source": [
    "- 선형 다중 분류 모델"
   ],
   "metadata": {}
  },
  {
   "cell_type": "code",
   "execution_count": 21,
   "source": [
    "xmin, xmax = plt.xlim()\r\n",
    "ymin, ymax = plt.ylim()\r\n",
    "x_plot = np.linspace(xmin,xmax)\r\n",
    "for coef, intercept in zip(model_log.coef_,model_log.intercept_):\r\n",
    "    plt.plot(x_plot, -(x_plot * coef[0] + intercept)/ coef[1])\r\n",
    "plt.xlabel('x')\r\n",
    "plt.ylabel('y')\r\n",
    "plt.show()"
   ],
   "outputs": [
    {
     "output_type": "display_data",
     "data": {
      "image/png": "[encoded data removed]",
      "text/plain": [
       "<Figure size 432x288 with 1 Axes>"
      ]
     },
     "metadata": {
      "needs_background": "light"
     }
    }
   ],
   "metadata": {}
  },
  {
   "cell_type": "code",
   "execution_count": null,
   "source": [],
   "outputs": [],
   "metadata": {}
  }
 ],
 "metadata": {
  "orig_nbformat": 4,
  "language_info": {
   "name": "python",
   "version": "3.8.10",
   "mimetype": "text/x-python",
   "codemirror_mode": {
    "name": "ipython",
    "version": 3
   },
   "pygments_lexer": "ipython3",
   "nbconvert_exporter": "python",
   "file_extension": ".py"
  },
  "kernelspec": {
   "name": "python3",
   "display_name": "Python 3.8.10 64-bit ('base': conda)"
  },
  "interpreter": {
   "hash": "acbbfebbbdf654efa85aa18169a14b54796a806b8c18a3c243660030e08aa454"
  }
 },
 "nbformat": 4,
 "nbformat_minor": 2
}